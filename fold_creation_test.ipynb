{
 "cells": [
  {
   "cell_type": "code",
   "id": "initial_id",
   "metadata": {
    "collapsed": true,
    "ExecuteTime": {
     "end_time": "2024-11-18T12:10:50.772139Z",
     "start_time": "2024-11-18T12:10:49.747620Z"
    }
   },
   "source": [
    "import os\n",
    "import pandas as pd\n",
    "import networkx as nx\n",
    "from collections import defaultdict, Counter\n",
    "import random\n",
    "import numpy as np\n",
    "import json\n",
    "from data_loader_cross_val.cv_data_loaders import CrossValidationDataLoader\n",
    "\n",
    "random.seed(42)"
   ],
   "outputs": [],
   "execution_count": 1
  },
  {
   "metadata": {
    "ExecuteTime": {
     "end_time": "2024-11-18T12:10:50.778672Z",
     "start_time": "2024-11-18T12:10:50.775504Z"
    }
   },
   "cell_type": "code",
   "source": [
    "# Basic config parser for testing purposes\n",
    "\n",
    "class Config:\n",
    "    def __init__(self, config_path=\"config.json\"):\n",
    "        with open(config_path, 'r') as f:\n",
    "            config_data = json.load(f)\n",
    "        self._set_attributes(config_data)\n",
    "\n",
    "    def _set_attributes(self, config_data):\n",
    "        for key, value in config_data.items():\n",
    "            if isinstance(value, dict):\n",
    "                # Recursively create Config instances for nested dictionaries\n",
    "                setattr(self, key, Config.from_dict(value))\n",
    "            else:\n",
    "                setattr(self, key, value)\n",
    "\n",
    "    @classmethod\n",
    "    def from_dict(cls, data_dict):\n",
    "        config_instance = cls.__new__(cls)  # Avoid calling __init__\n",
    "        config_instance._set_attributes(data_dict)\n",
    "        return config_instance"
   ],
   "id": "bef8e704b45767e5",
   "outputs": [],
   "execution_count": 2
  },
  {
   "metadata": {
    "ExecuteTime": {
     "end_time": "2024-11-18T12:10:50.851298Z",
     "start_time": "2024-11-18T12:10:50.849095Z"
    }
   },
   "cell_type": "code",
   "source": "conf = Config('config/DrugCombDB_config.json')",
   "id": "a8ffba0b388d4f58",
   "outputs": [],
   "execution_count": 3
  },
  {
   "metadata": {
    "ExecuteTime": {
     "end_time": "2024-11-18T12:11:03.303096Z",
     "start_time": "2024-11-18T12:10:50.858579Z"
    }
   },
   "cell_type": "code",
   "source": [
    "data_loader = CrossValidationDataLoader(conf.data_loader.args.data_dir,\n",
    "                         conf.data_loader.args.batch_size,\n",
    "                         conf.data_loader.args.score,\n",
    "                         conf.data_loader.args.n_hop,\n",
    "                         conf.data_loader.args.n_memory,\n",
    "                         shuffle=False,\n",
    "                         num_folds = 5,\n",
    "                         num_workers=2)"
   ],
   "id": "b139569f57a97f08",
   "outputs": [
    {
     "name": "stdout",
     "output_type": "stream",
     "text": [
      "undirected graph\n",
      "# proteins: 15970, # drugs: 764, # cells: 76\n",
      "# protein-protein interactions: 217160, # drug-protein associations: 5290, # cell-protein associations: 27730\n",
      "constructing neighbor set ...\n",
      "constructing neighbor set ...\n"
     ]
    }
   ],
   "execution_count": 4
  },
  {
   "metadata": {
    "ExecuteTime": {
     "end_time": "2024-11-18T12:11:03.313384Z",
     "start_time": "2024-11-18T12:11:03.307804Z"
    }
   },
   "cell_type": "code",
   "source": [
    "drug_combo_df = data_loader.drug_combination_df\n",
    "drug_combo_df"
   ],
   "id": "e88f29b2f007d142",
   "outputs": [
    {
     "data": {
      "text/plain": [
       "       cell  drug1_db  drug2_db  synergistic\n",
       "34669     3       267        67            0\n",
       "21168    65       187       336            0\n",
       "64069    24       289        13            1\n",
       "24346    29       547       390            0\n",
       "4874      5        66       680            1\n",
       "...     ...       ...       ...          ...\n",
       "49100     1       397       187            1\n",
       "20609    11        96       336            1\n",
       "21440    42        13       336            0\n",
       "50057    21       106        96            1\n",
       "5192     71       317       110            0\n",
       "\n",
       "[69436 rows x 4 columns]"
      ],
      "text/html": [
       "<div>\n",
       "<style scoped>\n",
       "    .dataframe tbody tr th:only-of-type {\n",
       "        vertical-align: middle;\n",
       "    }\n",
       "\n",
       "    .dataframe tbody tr th {\n",
       "        vertical-align: top;\n",
       "    }\n",
       "\n",
       "    .dataframe thead th {\n",
       "        text-align: right;\n",
       "    }\n",
       "</style>\n",
       "<table border=\"1\" class=\"dataframe\">\n",
       "  <thead>\n",
       "    <tr style=\"text-align: right;\">\n",
       "      <th></th>\n",
       "      <th>cell</th>\n",
       "      <th>drug1_db</th>\n",
       "      <th>drug2_db</th>\n",
       "      <th>synergistic</th>\n",
       "    </tr>\n",
       "  </thead>\n",
       "  <tbody>\n",
       "    <tr>\n",
       "      <th>34669</th>\n",
       "      <td>3</td>\n",
       "      <td>267</td>\n",
       "      <td>67</td>\n",
       "      <td>0</td>\n",
       "    </tr>\n",
       "    <tr>\n",
       "      <th>21168</th>\n",
       "      <td>65</td>\n",
       "      <td>187</td>\n",
       "      <td>336</td>\n",
       "      <td>0</td>\n",
       "    </tr>\n",
       "    <tr>\n",
       "      <th>64069</th>\n",
       "      <td>24</td>\n",
       "      <td>289</td>\n",
       "      <td>13</td>\n",
       "      <td>1</td>\n",
       "    </tr>\n",
       "    <tr>\n",
       "      <th>24346</th>\n",
       "      <td>29</td>\n",
       "      <td>547</td>\n",
       "      <td>390</td>\n",
       "      <td>0</td>\n",
       "    </tr>\n",
       "    <tr>\n",
       "      <th>4874</th>\n",
       "      <td>5</td>\n",
       "      <td>66</td>\n",
       "      <td>680</td>\n",
       "      <td>1</td>\n",
       "    </tr>\n",
       "    <tr>\n",
       "      <th>...</th>\n",
       "      <td>...</td>\n",
       "      <td>...</td>\n",
       "      <td>...</td>\n",
       "      <td>...</td>\n",
       "    </tr>\n",
       "    <tr>\n",
       "      <th>49100</th>\n",
       "      <td>1</td>\n",
       "      <td>397</td>\n",
       "      <td>187</td>\n",
       "      <td>1</td>\n",
       "    </tr>\n",
       "    <tr>\n",
       "      <th>20609</th>\n",
       "      <td>11</td>\n",
       "      <td>96</td>\n",
       "      <td>336</td>\n",
       "      <td>1</td>\n",
       "    </tr>\n",
       "    <tr>\n",
       "      <th>21440</th>\n",
       "      <td>42</td>\n",
       "      <td>13</td>\n",
       "      <td>336</td>\n",
       "      <td>0</td>\n",
       "    </tr>\n",
       "    <tr>\n",
       "      <th>50057</th>\n",
       "      <td>21</td>\n",
       "      <td>106</td>\n",
       "      <td>96</td>\n",
       "      <td>1</td>\n",
       "    </tr>\n",
       "    <tr>\n",
       "      <th>5192</th>\n",
       "      <td>71</td>\n",
       "      <td>317</td>\n",
       "      <td>110</td>\n",
       "      <td>0</td>\n",
       "    </tr>\n",
       "  </tbody>\n",
       "</table>\n",
       "<p>69436 rows × 4 columns</p>\n",
       "</div>"
      ]
     },
     "execution_count": 5,
     "metadata": {},
     "output_type": "execute_result"
    }
   ],
   "execution_count": 5
  },
  {
   "metadata": {
    "ExecuteTime": {
     "end_time": "2024-11-18T12:11:03.337794Z",
     "start_time": "2024-11-18T12:11:03.335218Z"
    }
   },
   "cell_type": "code",
   "source": [
    "def fold_indices(df, n_folds=5):\n",
    "    df_copy = df.copy()\n",
    "    df_copy['drug_combination'] = df_copy.apply(lambda row: tuple(sorted([row['drug1_db'], row['drug2_db']])), axis=1)\n",
    "    \n",
    "    f = defaultdict(list)\n",
    "    for idx, combo in enumerate(df_copy['drug_combination'].unique()):\n",
    "        row_idx = df.loc[df_copy['drug_combination'] == combo].index\n",
    "        fold = idx % n_folds\n",
    "        f[fold].extend(row_idx)\n",
    "        \n",
    "    return f"
   ],
   "id": "fd857cf0e7b5eeb0",
   "outputs": [],
   "execution_count": 6
  },
  {
   "metadata": {
    "ExecuteTime": {
     "end_time": "2024-11-18T12:11:03.369880Z",
     "start_time": "2024-11-18T12:11:03.363758Z"
    }
   },
   "cell_type": "code",
   "source": [
    "for fold_id in data_loader.get_fold_indices().keys():\n",
    "    data_loader.set_folds(fold_id)\n",
    "\n",
    "    train_loader = data_loader.get_train_loader()\n",
    "    val_loader = data_loader.get_val_loader()\n",
    "    test_loader = data_loader.get_test_loader()\n",
    "\n",
    "    print(f\"Fold {fold_id}:\")\n",
    "    print(f\"  Training set: {len(train_loader.dataset)} samples\")\n",
    "    print(f\"  Validation set: {len(val_loader.dataset)} samples\")\n",
    "    print(f\"  Testing set: {len(test_loader.dataset)} samples\")"
   ],
   "id": "1acae454e82fc17b",
   "outputs": [
    {
     "name": "stdout",
     "output_type": "stream",
     "text": [
      "Fold 0:\n",
      "  Training set: 41659 samples\n",
      "  Validation set: 13822 samples\n",
      "  Testing set: 13955 samples\n",
      "Fold 1:\n",
      "  Training set: 41537 samples\n",
      "  Validation set: 13955 samples\n",
      "  Testing set: 13944 samples\n",
      "Fold 2:\n",
      "  Training set: 41482 samples\n",
      "  Validation set: 13944 samples\n",
      "  Testing set: 14010 samples\n",
      "Fold 3:\n",
      "  Training set: 41721 samples\n",
      "  Validation set: 14010 samples\n",
      "  Testing set: 13705 samples\n",
      "Fold 4:\n",
      "  Training set: 41909 samples\n",
      "  Validation set: 13705 samples\n",
      "  Testing set: 13822 samples\n"
     ]
    }
   ],
   "execution_count": 7
  },
  {
   "metadata": {
    "ExecuteTime": {
     "end_time": "2024-11-18T12:11:11.028155Z",
     "start_time": "2024-11-18T12:11:03.386712Z"
    }
   },
   "cell_type": "code",
   "source": "folds = fold_indices(drug_combo_df)",
   "id": "ef3850ea1f152c36",
   "outputs": [],
   "execution_count": 8
  },
  {
   "metadata": {
    "ExecuteTime": {
     "end_time": "2024-11-18T12:11:11.040941Z",
     "start_time": "2024-11-18T12:11:11.037774Z"
    }
   },
   "cell_type": "code",
   "source": [
    "for key in folds.keys():\n",
    "    print(folds[key][:10])\n",
    "\n",
    "assert sum([len(x) for x in folds.values()]) == len(drug_combo_df)\n",
    "print(drug_combo_df)"
   ],
   "id": "230646dc3a92fe14",
   "outputs": [
    {
     "name": "stdout",
     "output_type": "stream",
     "text": [
      "[34669, 34672, 34666, 34680, 34679, 34687, 34684, 34656, 34689, 34675]\n",
      "[21168, 8955, 10099, 15332, 30047, 19078, 29655, 15102, 11726, 30785]\n",
      "[64069, 10257, 64071, 9171, 64067, 64055, 13141, 20150, 19221, 30625]\n",
      "[24346, 25418, 9762, 14869, 22842, 3394, 13572, 26392, 20417, 20732]\n",
      "[4874, 20714, 5166, 28653, 20398, 24611, 13601, 26677, 19493, 11156]\n",
      "       cell  drug1_db  drug2_db  synergistic\n",
      "34669     3       267        67            0\n",
      "21168    65       187       336            0\n",
      "64069    24       289        13            1\n",
      "24346    29       547       390            0\n",
      "4874      5        66       680            1\n",
      "...     ...       ...       ...          ...\n",
      "49100     1       397       187            1\n",
      "20609    11        96       336            1\n",
      "21440    42        13       336            0\n",
      "50057    21       106        96            1\n",
      "5192     71       317       110            0\n",
      "\n",
      "[69436 rows x 4 columns]\n"
     ]
    }
   ],
   "execution_count": 9
  },
  {
   "metadata": {
    "ExecuteTime": {
     "end_time": "2024-11-18T12:11:11.061629Z",
     "start_time": "2024-11-18T12:11:11.051944Z"
    }
   },
   "cell_type": "code",
   "source": [
    "for rows in folds.values():\n",
    "    subset = drug_combo_df.iloc[rows]\n",
    "    synergy_dist = subset['synergistic'].value_counts()\n",
    "    print(synergy_dist)\n",
    "    print('Number of unique cell lines: ', subset['cell'].nunique())\n",
    "    "
   ],
   "id": "832d8f8c4d4187ac",
   "outputs": [
    {
     "name": "stdout",
     "output_type": "stream",
     "text": [
      "synergistic\n",
      "0    7550\n",
      "1    6272\n",
      "Name: count, dtype: int64\n",
      "Number of unique cell lines:  72\n",
      "synergistic\n",
      "0    7657\n",
      "1    6298\n",
      "Name: count, dtype: int64\n",
      "Number of unique cell lines:  72\n",
      "synergistic\n",
      "0    7569\n",
      "1    6375\n",
      "Name: count, dtype: int64\n",
      "Number of unique cell lines:  70\n",
      "synergistic\n",
      "0    7644\n",
      "1    6366\n",
      "Name: count, dtype: int64\n",
      "Number of unique cell lines:  71\n",
      "synergistic\n",
      "0    7393\n",
      "1    6312\n",
      "Name: count, dtype: int64\n",
      "Number of unique cell lines:  72\n"
     ]
    }
   ],
   "execution_count": 10
  },
  {
   "metadata": {
    "ExecuteTime": {
     "end_time": "2024-11-18T12:11:11.076061Z",
     "start_time": "2024-11-18T12:11:11.073036Z"
    }
   },
   "cell_type": "code",
   "source": [
    "cell_counts = drug_combo_df['cell'].value_counts()\n",
    "print(cell_counts[cell_counts < 10])"
   ],
   "id": "57c4926293ec1b82",
   "outputs": [
    {
     "name": "stdout",
     "output_type": "stream",
     "text": [
      "cell\n",
      "22    2\n",
      "68    1\n",
      "Name: count, dtype: int64\n"
     ]
    }
   ],
   "execution_count": 11
  }
 ],
 "metadata": {
  "kernelspec": {
   "display_name": "Python 3",
   "language": "python",
   "name": "python3"
  },
  "language_info": {
   "codemirror_mode": {
    "name": "ipython",
    "version": 2
   },
   "file_extension": ".py",
   "mimetype": "text/x-python",
   "name": "python",
   "nbconvert_exporter": "python",
   "pygments_lexer": "ipython2",
   "version": "2.7.6"
  }
 },
 "nbformat": 4,
 "nbformat_minor": 5
}
