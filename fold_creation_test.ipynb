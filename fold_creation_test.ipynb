{
 "cells": [
  {
   "cell_type": "code",
   "id": "initial_id",
   "metadata": {
    "collapsed": true,
    "ExecuteTime": {
     "end_time": "2024-11-17T14:42:01.112408Z",
     "start_time": "2024-11-17T14:42:00.041223Z"
    }
   },
   "source": [
    "import os\n",
    "import pandas as pd\n",
    "import networkx as nx\n",
    "from collections import defaultdict, Counter\n",
    "import random\n",
    "import seaborn as sns\n",
    "import numpy as np\n",
    "from matplotlib import pyplot as plt\n",
    "import json\n",
    "\n",
    "from data_loader_cross_val.cv_data_loaders import CrossValidationDataLoader"
   ],
   "outputs": [],
   "execution_count": 1
  },
  {
   "metadata": {
    "ExecuteTime": {
     "end_time": "2024-11-17T14:42:01.476824Z",
     "start_time": "2024-11-17T14:42:01.472345Z"
    }
   },
   "cell_type": "code",
   "source": [
    "# Basic config parser for testing purposes\n",
    "\n",
    "class Config:\n",
    "    def __init__(self, config_path=\"config.json\"):\n",
    "        with open(config_path, 'r') as f:\n",
    "            config_data = json.load(f)\n",
    "        self._set_attributes(config_data)\n",
    "\n",
    "    def _set_attributes(self, config_data):\n",
    "        for key, value in config_data.items():\n",
    "            if isinstance(value, dict):\n",
    "                # Recursively create Config instances for nested dictionaries\n",
    "                setattr(self, key, Config.from_dict(value))\n",
    "            else:\n",
    "                setattr(self, key, value)\n",
    "\n",
    "    @classmethod\n",
    "    def from_dict(cls, data_dict):\n",
    "        config_instance = cls.__new__(cls)  # Avoid calling __init__\n",
    "        config_instance._set_attributes(data_dict)\n",
    "        return config_instance"
   ],
   "id": "bef8e704b45767e5",
   "outputs": [],
   "execution_count": 2
  },
  {
   "metadata": {
    "ExecuteTime": {
     "end_time": "2024-11-17T14:42:03.371225Z",
     "start_time": "2024-11-17T14:42:03.368456Z"
    }
   },
   "cell_type": "code",
   "source": "conf = Config('config/DrugCombDB_config.json')",
   "id": "a8ffba0b388d4f58",
   "outputs": [],
   "execution_count": 3
  },
  {
   "metadata": {
    "ExecuteTime": {
     "end_time": "2024-11-17T14:42:17.486595Z",
     "start_time": "2024-11-17T14:42:04.908611Z"
    }
   },
   "cell_type": "code",
   "source": [
    "data_loader = CrossValidationDataLoader(conf.data_loader.args.data_dir,\n",
    "                         conf.data_loader.args.batch_size,\n",
    "                         conf.data_loader.args.score,\n",
    "                         conf.data_loader.args.n_hop,\n",
    "                         conf.data_loader.args.n_memory,\n",
    "                         shuffle=False,\n",
    "                         num_folds = 5,\n",
    "                         num_workers=2)"
   ],
   "id": "b139569f57a97f08",
   "outputs": [
    {
     "name": "stdout",
     "output_type": "stream",
     "text": [
      "undirected graph\n",
      "# proteins: 15970, # drugs: 764, # cells: 76\n",
      "# protein-protein interactions: 217160, # drug-protein associations: 5290, # cell-protein associations: 27730\n",
      "constructing neighbor set ...\n",
      "constructing neighbor set ...\n"
     ]
    }
   ],
   "execution_count": 4
  },
  {
   "metadata": {},
   "cell_type": "code",
   "source": [
    "drug_combo_df = data_loader.drug_combination_df\n",
    "drug_combo_df"
   ],
   "id": "e88f29b2f007d142",
   "outputs": [],
   "execution_count": null
  },
  {
   "metadata": {},
   "cell_type": "code",
   "source": [
    "def fold_indices(df, n_folds=5):\n",
    "    df_copy = df.copy()\n",
    "    df_copy['drug_combination'] = df_copy.apply(lambda row: tuple(sorted([row['drug1_db'], row['drug2_db']])), axis=1)\n",
    "    \n",
    "    f = defaultdict(list)\n",
    "    for idx, combo in enumerate(df_copy['drug_combination'].unique()):\n",
    "        row_idx = df.loc[df_copy['drug_combination'] == combo].index\n",
    "        fold = idx % n_folds\n",
    "        f[fold].extend(row_idx)\n",
    "        \n",
    "    return f"
   ],
   "id": "fd857cf0e7b5eeb0",
   "outputs": [],
   "execution_count": null
  },
  {
   "metadata": {
    "ExecuteTime": {
     "end_time": "2024-11-17T14:42:17.495630Z",
     "start_time": "2024-11-17T14:42:17.490585Z"
    }
   },
   "cell_type": "code",
   "source": [
    "for fold_id in data_loader.get_fold_indices().keys():\n",
    "    data_loader.set_folds(fold_id)\n",
    "\n",
    "    train_loader = data_loader.get_train_loader()\n",
    "    val_loader = data_loader.get_val_loader()\n",
    "    test_loader = data_loader.get_test_loader()\n",
    "\n",
    "    print(f\"Fold {fold_id}:\")\n",
    "    print(f\"  Training set: {len(train_loader.dataset)} samples\")\n",
    "    print(f\"  Validation set: {len(val_loader.dataset)} samples\")\n",
    "    print(f\"  Testing set: {len(test_loader.dataset)} samples\")"
   ],
   "id": "1acae454e82fc17b",
   "outputs": [
    {
     "name": "stdout",
     "output_type": "stream",
     "text": [
      "Fold 0:\n",
      "  Training set: 41659 samples\n",
      "  Validation set: 13822 samples\n",
      "  Testing set: 13955 samples\n",
      "Fold 1:\n",
      "  Training set: 41537 samples\n",
      "  Validation set: 13955 samples\n",
      "  Testing set: 13944 samples\n",
      "Fold 2:\n",
      "  Training set: 41482 samples\n",
      "  Validation set: 13944 samples\n",
      "  Testing set: 14010 samples\n",
      "Fold 3:\n",
      "  Training set: 41721 samples\n",
      "  Validation set: 14010 samples\n",
      "  Testing set: 13705 samples\n",
      "Fold 4:\n",
      "  Training set: 41909 samples\n",
      "  Validation set: 13705 samples\n",
      "  Testing set: 13822 samples\n"
     ]
    }
   ],
   "execution_count": 5
  },
  {
   "metadata": {},
   "cell_type": "code",
   "source": "folds = fold_indices(drug_combo_df)",
   "id": "ef3850ea1f152c36",
   "outputs": [],
   "execution_count": null
  },
  {
   "metadata": {},
   "cell_type": "code",
   "source": [
    "for key in folds.keys():\n",
    "    print(folds[key][:10])\n",
    "\n",
    "assert sum([len(x) for x in folds.values()]) == len(drug_combo_df)\n",
    "print(drug_combo_df)"
   ],
   "id": "230646dc3a92fe14",
   "outputs": [],
   "execution_count": null
  },
  {
   "metadata": {},
   "cell_type": "code",
   "source": [
    "for rows in folds.values():\n",
    "    subset = drug_combo_df.iloc[rows]\n",
    "    synergy_dist = subset['synergistic'].value_counts()\n",
    "    print(synergy_dist)\n",
    "    print('Number of unique cell lines: ', subset['cell'].nunique())\n",
    "    "
   ],
   "id": "832d8f8c4d4187ac",
   "outputs": [],
   "execution_count": null
  },
  {
   "metadata": {},
   "cell_type": "code",
   "source": [
    "cell_counts = drug_combo_df['cell'].value_counts()\n",
    "print(cell_counts[cell_counts < 10])"
   ],
   "id": "57c4926293ec1b82",
   "outputs": [],
   "execution_count": null
  }
 ],
 "metadata": {
  "kernelspec": {
   "display_name": "Python 3",
   "language": "python",
   "name": "python3"
  },
  "language_info": {
   "codemirror_mode": {
    "name": "ipython",
    "version": 2
   },
   "file_extension": ".py",
   "mimetype": "text/x-python",
   "name": "python",
   "nbconvert_exporter": "python",
   "pygments_lexer": "ipython2",
   "version": "2.7.6"
  }
 },
 "nbformat": 4,
 "nbformat_minor": 5
}
