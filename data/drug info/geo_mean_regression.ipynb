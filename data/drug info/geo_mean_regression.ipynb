{
 "cells": [
  {
   "cell_type": "markdown",
   "metadata": {},
   "source": [
    "# Linnear Regression on Geometric mean of drug weights"
   ]
  },
  {
   "cell_type": "code",
   "execution_count": 13,
   "metadata": {},
   "outputs": [
    {
     "name": "stdout",
     "output_type": "stream",
     "text": [
      "Model R²: 0.03\n",
      "Mean Squared Error: 34.70\n",
      "Intercept: -2.68\n",
      "Coefficient (Slope): 0.02\n"
     ]
    }
   ],
   "source": [
    "import pandas as pd\n",
    "import numpy as np\n",
    "from sklearn.linear_model import LinearRegression\n",
    "from sklearn.model_selection import train_test_split\n",
    "from sklearn.metrics import r2_score, mean_squared_error\n",
    "import matplotlib.pyplot as plt\n",
    "\n",
    "\n",
    "df = pd.read_csv(\"weight_synergy.csv\").dropna(subset=['synergy', 'weightGeometricMean', 'combinedWeight'])\n",
    "\n",
    "X = df[['weightGeometricMean', 'combinedWeight']]  \n",
    "y = df['synergy']             \n",
    "\n",
    "# Split the data into training and testing sets\n",
    "X_train, X_test, y_train, y_test = train_test_split(X, y, test_size=0.2, random_state=42)\n",
    "\n",
    "# Train the linear regression model\n",
    "model = LinearRegression()\n",
    "model.fit(X_train, y_train)\n",
    "\n",
    "# Predict synergy scores on the test set\n",
    "y_pred = model.predict(X_test)\n",
    "\n",
    "# Evaluate the model\n",
    "r2 = r2_score(y_test, y_pred)\n",
    "mse = mean_squared_error(y_test, y_pred)\n",
    "\n",
    "print(f\"Model R²: {r2:.2f}\")\n",
    "print(f\"Mean Squared Error: {mse:.2f}\")\n",
    "\n",
    "# Extract the model parameters\n",
    "intercept = model.intercept_\n",
    "coefficient = model.coef_[0]\n",
    "\n",
    "print(f\"Intercept: {intercept:.2f}\")\n",
    "print(f\"Coefficient (Slope): {coefficient:.2f}\")\n"
   ]
  },
  {
   "cell_type": "code",
   "execution_count": 10,
   "metadata": {},
   "outputs": [
    {
     "name": "stdout",
     "output_type": "stream",
     "text": [
      "Guessed correctly: 29537\n",
      "Guessed wrongly: 21003\n",
      "Success rate: 58.44281757024139 %\n"
     ]
    }
   ],
   "source": [
    "counter = {True: 0, False: 0}\n",
    "\n",
    "for i in range(len(df)):\n",
    "    # Get the feature values and actual synergy value for the selected row\n",
    "    geom_mean_example = df[\"weightGeometricMean\"].iloc[i]\n",
    "    combined_weight_example = df[\"combinedWeight\"].iloc[i]\n",
    "    actual_synergy = df[\"synergy\"].iloc[i]\n",
    "\n",
    "    # Predict the synergy using the model (now using both features)\n",
    "    predicted_synergy = model.predict(pd.DataFrame([[geom_mean_example, combined_weight_example]], \n",
    "                                                   columns=[\"weightGeometricMean\", \"combinedWeight\"]))[0]  # Extract the scalar value\n",
    "\n",
    "    # Convert predicted and actual synergy scores to binary (0 or 1)\n",
    "    predicted_binary = predicted_synergy > 0\n",
    "    actual_binary = actual_synergy > 0\n",
    "\n",
    "    # Update the counter based on whether the prediction matches the actual value\n",
    "    counter[predicted_binary == actual_binary] += 1\n",
    "\n",
    "print(\"Guessed correctly:\", counter[True])\n",
    "print(\"Guessed wrongly:\", counter[False])\n",
    "print(\"Success rate:\", counter[True] / (counter[True] + counter[False]) * 100, \"%\")"
   ]
  },
  {
   "cell_type": "code",
   "execution_count": null,
   "metadata": {},
   "outputs": [],
   "source": []
  }
 ],
 "metadata": {
  "kernelspec": {
   "display_name": "base",
   "language": "python",
   "name": "python3"
  },
  "language_info": {
   "codemirror_mode": {
    "name": "ipython",
    "version": 3
   },
   "file_extension": ".py",
   "mimetype": "text/x-python",
   "name": "python",
   "nbconvert_exporter": "python",
   "pygments_lexer": "ipython3",
   "version": "3.12.2"
  }
 },
 "nbformat": 4,
 "nbformat_minor": 2
}
