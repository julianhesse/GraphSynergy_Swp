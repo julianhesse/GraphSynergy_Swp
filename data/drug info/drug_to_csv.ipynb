{
 "cells": [
  {
   "cell_type": "code",
   "execution_count": 1,
   "metadata": {},
   "outputs": [
    {
     "name": "stderr",
     "output_type": "stream",
     "text": [
      "/var/folders/nn/z8dl2wm93h5g80b31zrgzjmc0000gn/T/ipykernel_38353/1744043860.py:19: SettingWithCopyWarning: \n",
      "A value is trying to be set on a copy of a slice from a DataFrame.\n",
      "Try using .loc[row_indexer,col_indexer] = value instead\n",
      "\n",
      "See the caveats in the documentation: https://pandas.pydata.org/pandas-docs/stable/user_guide/indexing.html#returning-a-view-versus-a-copy\n",
      "  weight_df[\"Drug\"] = weight_df[\"Drug\"].str.upper()\n"
     ]
    }
   ],
   "source": [
    "import pandas as pd\n",
    "\n",
    "\n",
    "drug_info = pd.read_csv(\"drug_chemical_info.csv\", encoding=\"latin1\")\n",
    "synergy_data = pd.read_csv(\"drug_combinations.csv\", encoding=\"latin1\")\n",
    "\n",
    "drug1 = synergy_data[[\"Drug1\", \"drug1_db\"]]\n",
    "drug2 = synergy_data[[\"Drug2\", \"drug2_db\"]]\n",
    "\n",
    "drug2.columns = drug1.columns\n",
    "\n",
    "combined_df = pd.concat([drug1, drug2], ignore_index=True).drop_duplicates()\n",
    "combined_df.columns = [\"Drug\", \"drug_db\"]\n",
    "\n",
    "weight_df = drug_info[[\"drugName\", \"molecularWeight\"]]\n",
    "weight_df.columns = [\"Drug\", \"Weight\"]\n",
    "\n",
    "combined_df[\"upper\"] = combined_df[\"Drug\"].str.upper()\n",
    "weight_df[\"Drug\"] = weight_df[\"Drug\"].str.upper()\n",
    "weight_df.columns = [\"upper\", \"Weight\"]\n",
    "\n",
    "merged_df = pd.merge(combined_df, weight_df, on=\"upper\", how=\"left\")\n",
    "merged_df = merged_df.drop(columns=\"upper\")\n",
    "\n",
    "column_order = [\"Drug\", \"drug_db\", \"Weight\"]\n",
    "merged_df = merged_df[column_order]\n",
    "\n",
    "# make it to a csv\n",
    "merged_df.to_csv(\"drug_weight.csv\", index=False)  # , encoding=\"utf-8\n",
    "\n"
   ]
  },
  {
   "cell_type": "code",
   "execution_count": null,
   "metadata": {},
   "outputs": [],
   "source": []
  }
 ],
 "metadata": {
  "kernelspec": {
   "display_name": "base",
   "language": "python",
   "name": "python3"
  },
  "language_info": {
   "codemirror_mode": {
    "name": "ipython",
    "version": 3
   },
   "file_extension": ".py",
   "mimetype": "text/x-python",
   "name": "python",
   "nbconvert_exporter": "python",
   "pygments_lexer": "ipython3",
   "version": "3.12.2"
  }
 },
 "nbformat": 4,
 "nbformat_minor": 2
}
