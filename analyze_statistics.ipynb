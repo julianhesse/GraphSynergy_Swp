{
 "cells": [
  {
   "cell_type": "code",
   "execution_count": 121,
   "metadata": {},
   "outputs": [],
   "source": [
    "import numpy as np\n",
    "import pandas as pd\n",
    "import matplotlib.pyplot as plt\n",
    "import networkx as nx\n",
    "import plotly.express as px\n",
    "from tqdm import tqdm"
   ]
  },
  {
   "cell_type": "code",
   "execution_count": 3,
   "metadata": {},
   "outputs": [
    {
     "name": "stdout",
     "output_type": "stream",
     "text": [
      "/Users/julianhesse/Documents/cs_master/swp_cancer/GraphSynergy_Swp\n"
     ]
    }
   ],
   "source": [
    "data_path = \"./data/DrugCombDB/\"\n",
    "\n",
    "import os\n",
    "print(os.getcwd())\n",
    "\n",
    "# cells: GeneSym (code?), source, protein (id), cell (code), tissue, target_id, weight\n",
    "df_cell_protein = pd.read_csv(data_path + \"cell_protein.csv\") \n",
    "# combinations: Drug1 (protein?), Drug2 (protein?), cell, drug1_db, drug2_db, synergy\n",
    "df_drug_combinations = pd.read_csv(data_path + \"drug_combinations.csv\")\n",
    "# drug proteins: drug(db format), protein (id)\n",
    "df_drug_protein = pd.read_csv(data_path + \"drug_protein.csv\")"
   ]
  },
  {
   "cell_type": "code",
   "execution_count": 102,
   "metadata": {},
   "outputs": [
    {
     "data": {
      "text/html": [
       "<div>\n",
       "<style scoped>\n",
       "    .dataframe tbody tr th:only-of-type {\n",
       "        vertical-align: middle;\n",
       "    }\n",
       "\n",
       "    .dataframe tbody tr th {\n",
       "        vertical-align: top;\n",
       "    }\n",
       "\n",
       "    .dataframe thead th {\n",
       "        text-align: right;\n",
       "    }\n",
       "</style>\n",
       "<table border=\"1\" class=\"dataframe\">\n",
       "  <thead>\n",
       "    <tr style=\"text-align: right;\">\n",
       "      <th></th>\n",
       "      <th>drug</th>\n",
       "      <th>protein</th>\n",
       "    </tr>\n",
       "  </thead>\n",
       "  <tbody>\n",
       "    <tr>\n",
       "      <th>0</th>\n",
       "      <td>DB01110</td>\n",
       "      <td>4843</td>\n",
       "    </tr>\n",
       "    <tr>\n",
       "      <th>1</th>\n",
       "      <td>DB01234</td>\n",
       "      <td>4843</td>\n",
       "    </tr>\n",
       "    <tr>\n",
       "      <th>2</th>\n",
       "      <td>DB08814</td>\n",
       "      <td>4843</td>\n",
       "    </tr>\n",
       "    <tr>\n",
       "      <th>3</th>\n",
       "      <td>DB00661</td>\n",
       "      <td>8911</td>\n",
       "    </tr>\n",
       "    <tr>\n",
       "      <th>4</th>\n",
       "      <td>DB00909</td>\n",
       "      <td>8911</td>\n",
       "    </tr>\n",
       "    <tr>\n",
       "      <th>...</th>\n",
       "      <td>...</td>\n",
       "      <td>...</td>\n",
       "    </tr>\n",
       "    <tr>\n",
       "      <th>5285</th>\n",
       "      <td>DB08865</td>\n",
       "      <td>10746</td>\n",
       "    </tr>\n",
       "    <tr>\n",
       "      <th>5286</th>\n",
       "      <td>DB08865</td>\n",
       "      <td>11183</td>\n",
       "    </tr>\n",
       "    <tr>\n",
       "      <th>5287</th>\n",
       "      <td>DB08865</td>\n",
       "      <td>11213</td>\n",
       "    </tr>\n",
       "    <tr>\n",
       "      <th>5288</th>\n",
       "      <td>DB04149</td>\n",
       "      <td>5141</td>\n",
       "    </tr>\n",
       "    <tr>\n",
       "      <th>5289</th>\n",
       "      <td>DB04149</td>\n",
       "      <td>5143</td>\n",
       "    </tr>\n",
       "  </tbody>\n",
       "</table>\n",
       "<p>5290 rows × 2 columns</p>\n",
       "</div>"
      ],
      "text/plain": [
       "         drug  protein\n",
       "0     DB01110     4843\n",
       "1     DB01234     4843\n",
       "2     DB08814     4843\n",
       "3     DB00661     8911\n",
       "4     DB00909     8911\n",
       "...       ...      ...\n",
       "5285  DB08865    10746\n",
       "5286  DB08865    11183\n",
       "5287  DB08865    11213\n",
       "5288  DB04149     5141\n",
       "5289  DB04149     5143\n",
       "\n",
       "[5290 rows x 2 columns]"
      ]
     },
     "execution_count": 102,
     "metadata": {},
     "output_type": "execute_result"
    }
   ],
   "source": [
    "df_drug_protein"
   ]
  },
  {
   "cell_type": "code",
   "execution_count": 105,
   "metadata": {},
   "outputs": [
    {
     "data": {
      "text/html": [
       "<div>\n",
       "<style scoped>\n",
       "    .dataframe tbody tr th:only-of-type {\n",
       "        vertical-align: middle;\n",
       "    }\n",
       "\n",
       "    .dataframe tbody tr th {\n",
       "        vertical-align: top;\n",
       "    }\n",
       "\n",
       "    .dataframe thead th {\n",
       "        text-align: right;\n",
       "    }\n",
       "</style>\n",
       "<table border=\"1\" class=\"dataframe\">\n",
       "  <thead>\n",
       "    <tr style=\"text-align: right;\">\n",
       "      <th></th>\n",
       "      <th>Drug1</th>\n",
       "      <th>Drug2</th>\n",
       "      <th>cell</th>\n",
       "      <th>drug1_db</th>\n",
       "      <th>drug2_db</th>\n",
       "      <th>synergy</th>\n",
       "    </tr>\n",
       "  </thead>\n",
       "  <tbody>\n",
       "    <tr>\n",
       "      <th>0</th>\n",
       "      <td>5-FU</td>\n",
       "      <td>BORTEZOMIB</td>\n",
       "      <td>A2058</td>\n",
       "      <td>DB00544</td>\n",
       "      <td>DB00188</td>\n",
       "      <td>0</td>\n",
       "    </tr>\n",
       "    <tr>\n",
       "      <th>1</th>\n",
       "      <td>5-FU</td>\n",
       "      <td>DASATINIB</td>\n",
       "      <td>A2058</td>\n",
       "      <td>DB00544</td>\n",
       "      <td>DB01254</td>\n",
       "      <td>1</td>\n",
       "    </tr>\n",
       "    <tr>\n",
       "      <th>2</th>\n",
       "      <td>5-FU</td>\n",
       "      <td>ERLOTINIB</td>\n",
       "      <td>A2058</td>\n",
       "      <td>DB00544</td>\n",
       "      <td>DB00530</td>\n",
       "      <td>1</td>\n",
       "    </tr>\n",
       "    <tr>\n",
       "      <th>3</th>\n",
       "      <td>5-FU</td>\n",
       "      <td>GELDANAMYCIN</td>\n",
       "      <td>A2058</td>\n",
       "      <td>DB00544</td>\n",
       "      <td>DB02424</td>\n",
       "      <td>1</td>\n",
       "    </tr>\n",
       "    <tr>\n",
       "      <th>4</th>\n",
       "      <td>5-FU</td>\n",
       "      <td>LAPATINIB</td>\n",
       "      <td>A2058</td>\n",
       "      <td>DB00544</td>\n",
       "      <td>DB01259</td>\n",
       "      <td>1</td>\n",
       "    </tr>\n",
       "    <tr>\n",
       "      <th>...</th>\n",
       "      <td>...</td>\n",
       "      <td>...</td>\n",
       "      <td>...</td>\n",
       "      <td>...</td>\n",
       "      <td>...</td>\n",
       "      <td>...</td>\n",
       "    </tr>\n",
       "    <tr>\n",
       "      <th>69431</th>\n",
       "      <td>Sunitinib malate</td>\n",
       "      <td>Toremifene citrate</td>\n",
       "      <td>HUH7</td>\n",
       "      <td>DB01268</td>\n",
       "      <td>DB00539</td>\n",
       "      <td>1</td>\n",
       "    </tr>\n",
       "    <tr>\n",
       "      <th>69432</th>\n",
       "      <td>Sunitinib malate</td>\n",
       "      <td>Aripiprazole</td>\n",
       "      <td>HUH7</td>\n",
       "      <td>DB01268</td>\n",
       "      <td>DB01238</td>\n",
       "      <td>0</td>\n",
       "    </tr>\n",
       "    <tr>\n",
       "      <th>69433</th>\n",
       "      <td>Toremifene citrate</td>\n",
       "      <td>Toremifene citrate</td>\n",
       "      <td>HUH7</td>\n",
       "      <td>DB00539</td>\n",
       "      <td>DB00539</td>\n",
       "      <td>0</td>\n",
       "    </tr>\n",
       "    <tr>\n",
       "      <th>69434</th>\n",
       "      <td>Toremifene citrate</td>\n",
       "      <td>Aripiprazole</td>\n",
       "      <td>HUH7</td>\n",
       "      <td>DB00539</td>\n",
       "      <td>DB01238</td>\n",
       "      <td>0</td>\n",
       "    </tr>\n",
       "    <tr>\n",
       "      <th>69435</th>\n",
       "      <td>Aripiprazole</td>\n",
       "      <td>Aripiprazole</td>\n",
       "      <td>HUH7</td>\n",
       "      <td>DB01238</td>\n",
       "      <td>DB01238</td>\n",
       "      <td>0</td>\n",
       "    </tr>\n",
       "  </tbody>\n",
       "</table>\n",
       "<p>69436 rows × 6 columns</p>\n",
       "</div>"
      ],
      "text/plain": [
       "                    Drug1               Drug2   cell drug1_db drug2_db  \\\n",
       "0                    5-FU          BORTEZOMIB  A2058  DB00544  DB00188   \n",
       "1                    5-FU           DASATINIB  A2058  DB00544  DB01254   \n",
       "2                    5-FU           ERLOTINIB  A2058  DB00544  DB00530   \n",
       "3                    5-FU        GELDANAMYCIN  A2058  DB00544  DB02424   \n",
       "4                    5-FU           LAPATINIB  A2058  DB00544  DB01259   \n",
       "...                   ...                 ...    ...      ...      ...   \n",
       "69431    Sunitinib malate  Toremifene citrate   HUH7  DB01268  DB00539   \n",
       "69432    Sunitinib malate        Aripiprazole   HUH7  DB01268  DB01238   \n",
       "69433  Toremifene citrate  Toremifene citrate   HUH7  DB00539  DB00539   \n",
       "69434  Toremifene citrate        Aripiprazole   HUH7  DB00539  DB01238   \n",
       "69435        Aripiprazole        Aripiprazole   HUH7  DB01238  DB01238   \n",
       "\n",
       "       synergy  \n",
       "0            0  \n",
       "1            1  \n",
       "2            1  \n",
       "3            1  \n",
       "4            1  \n",
       "...        ...  \n",
       "69431        1  \n",
       "69432        0  \n",
       "69433        0  \n",
       "69434        0  \n",
       "69435        0  \n",
       "\n",
       "[69436 rows x 6 columns]"
      ]
     },
     "execution_count": 105,
     "metadata": {},
     "output_type": "execute_result"
    }
   ],
   "source": [
    "df_drug_combinations['synergy'] = df_drug_combinations['synergy'].apply(lambda x: 0 if x <= 0 else 1)\n",
    "df_drug_combinations"
   ]
  },
  {
   "cell_type": "markdown",
   "metadata": {},
   "source": [
    "## Analyse Statistics of Cell Probabilities"
   ]
  },
  {
   "cell_type": "code",
   "execution_count": 13,
   "metadata": {},
   "outputs": [
    {
     "data": {
      "text/plain": [
       "cell   synergy\n",
       "786O   0          965\n",
       "       1          620\n",
       "A2058  1           82\n",
       "       0           16\n",
       "A2780  1           94\n",
       "                 ... \n",
       "VCAP   1           75\n",
       "       0           23\n",
       "WM115  0            1\n",
       "ZR751  0           78\n",
       "       1           20\n",
       "Name: count, Length: 144, dtype: int64"
      ]
     },
     "execution_count": 13,
     "metadata": {},
     "output_type": "execute_result"
    }
   ],
   "source": [
    "counts = df_drug_combinations.groupby('cell')['synergy'].value_counts()\n",
    "counts"
   ]
  },
  {
   "cell_type": "code",
   "execution_count": 38,
   "metadata": {},
   "outputs": [
    {
     "data": {
      "text/plain": [
       "cell   synergy\n",
       "786O   0          965\n",
       "       1          620\n",
       "A2058  0           16\n",
       "       1           82\n",
       "A2780  0            4\n",
       "                 ... \n",
       "VCAP   0           23\n",
       "       1           75\n",
       "WM115  0            1\n",
       "ZR751  0           78\n",
       "       1           20\n",
       "Name: count, Length: 144, dtype: int64"
      ]
     },
     "execution_count": 38,
     "metadata": {},
     "output_type": "execute_result"
    }
   ],
   "source": [
    "counts.sort_index(axis=0)"
   ]
  },
  {
   "cell_type": "code",
   "execution_count": 22,
   "metadata": {},
   "outputs": [
    {
     "data": {
      "text/plain": [
       "pandas.core.series.Series"
      ]
     },
     "execution_count": 22,
     "metadata": {},
     "output_type": "execute_result"
    }
   ],
   "source": [
    "counts_df = counts.sort_values()\n",
    "type(counts_df)"
   ]
  },
  {
   "cell_type": "code",
   "execution_count": 51,
   "metadata": {},
   "outputs": [
    {
     "data": {
      "text/html": [
       "<div>\n",
       "<style scoped>\n",
       "    .dataframe tbody tr th:only-of-type {\n",
       "        vertical-align: middle;\n",
       "    }\n",
       "\n",
       "    .dataframe tbody tr th {\n",
       "        vertical-align: top;\n",
       "    }\n",
       "\n",
       "    .dataframe thead th {\n",
       "        text-align: right;\n",
       "    }\n",
       "</style>\n",
       "<table border=\"1\" class=\"dataframe\">\n",
       "  <thead>\n",
       "    <tr style=\"text-align: right;\">\n",
       "      <th></th>\n",
       "      <th>cell</th>\n",
       "      <th>synergy</th>\n",
       "      <th>count</th>\n",
       "    </tr>\n",
       "  </thead>\n",
       "  <tbody>\n",
       "    <tr>\n",
       "      <th>0</th>\n",
       "      <td>786O</td>\n",
       "      <td>0</td>\n",
       "      <td>965</td>\n",
       "    </tr>\n",
       "    <tr>\n",
       "      <th>1</th>\n",
       "      <td>786O</td>\n",
       "      <td>1</td>\n",
       "      <td>620</td>\n",
       "    </tr>\n",
       "    <tr>\n",
       "      <th>2</th>\n",
       "      <td>A2058</td>\n",
       "      <td>1</td>\n",
       "      <td>82</td>\n",
       "    </tr>\n",
       "    <tr>\n",
       "      <th>3</th>\n",
       "      <td>A2058</td>\n",
       "      <td>0</td>\n",
       "      <td>16</td>\n",
       "    </tr>\n",
       "    <tr>\n",
       "      <th>4</th>\n",
       "      <td>A2780</td>\n",
       "      <td>1</td>\n",
       "      <td>94</td>\n",
       "    </tr>\n",
       "    <tr>\n",
       "      <th>...</th>\n",
       "      <td>...</td>\n",
       "      <td>...</td>\n",
       "      <td>...</td>\n",
       "    </tr>\n",
       "    <tr>\n",
       "      <th>139</th>\n",
       "      <td>VCAP</td>\n",
       "      <td>1</td>\n",
       "      <td>75</td>\n",
       "    </tr>\n",
       "    <tr>\n",
       "      <th>140</th>\n",
       "      <td>VCAP</td>\n",
       "      <td>0</td>\n",
       "      <td>23</td>\n",
       "    </tr>\n",
       "    <tr>\n",
       "      <th>141</th>\n",
       "      <td>WM115</td>\n",
       "      <td>0</td>\n",
       "      <td>1</td>\n",
       "    </tr>\n",
       "    <tr>\n",
       "      <th>142</th>\n",
       "      <td>ZR751</td>\n",
       "      <td>0</td>\n",
       "      <td>78</td>\n",
       "    </tr>\n",
       "    <tr>\n",
       "      <th>143</th>\n",
       "      <td>ZR751</td>\n",
       "      <td>1</td>\n",
       "      <td>20</td>\n",
       "    </tr>\n",
       "  </tbody>\n",
       "</table>\n",
       "<p>144 rows × 3 columns</p>\n",
       "</div>"
      ],
      "text/plain": [
       "      cell  synergy  count\n",
       "0     786O        0    965\n",
       "1     786O        1    620\n",
       "2    A2058        1     82\n",
       "3    A2058        0     16\n",
       "4    A2780        1     94\n",
       "..     ...      ...    ...\n",
       "139   VCAP        1     75\n",
       "140   VCAP        0     23\n",
       "141  WM115        0      1\n",
       "142  ZR751        0     78\n",
       "143  ZR751        1     20\n",
       "\n",
       "[144 rows x 3 columns]"
      ]
     },
     "execution_count": 51,
     "metadata": {},
     "output_type": "execute_result"
    }
   ],
   "source": [
    "counts_df = counts.reset_index(level=[0,1])\n",
    "counts_df"
   ]
  },
  {
   "cell_type": "code",
   "execution_count": 66,
   "metadata": {},
   "outputs": [
    {
     "data": {
      "text/html": [
       "<div>\n",
       "<style scoped>\n",
       "    .dataframe tbody tr th:only-of-type {\n",
       "        vertical-align: middle;\n",
       "    }\n",
       "\n",
       "    .dataframe tbody tr th {\n",
       "        vertical-align: top;\n",
       "    }\n",
       "\n",
       "    .dataframe thead th {\n",
       "        text-align: right;\n",
       "    }\n",
       "</style>\n",
       "<table border=\"1\" class=\"dataframe\">\n",
       "  <thead>\n",
       "    <tr style=\"text-align: right;\">\n",
       "      <th>synergy</th>\n",
       "      <th>cell</th>\n",
       "      <th>0</th>\n",
       "      <th>1</th>\n",
       "    </tr>\n",
       "  </thead>\n",
       "  <tbody>\n",
       "    <tr>\n",
       "      <th>0</th>\n",
       "      <td>786O</td>\n",
       "      <td>965.0</td>\n",
       "      <td>620.0</td>\n",
       "    </tr>\n",
       "    <tr>\n",
       "      <th>1</th>\n",
       "      <td>A2058</td>\n",
       "      <td>16.0</td>\n",
       "      <td>82.0</td>\n",
       "    </tr>\n",
       "    <tr>\n",
       "      <th>2</th>\n",
       "      <td>A2780</td>\n",
       "      <td>4.0</td>\n",
       "      <td>94.0</td>\n",
       "    </tr>\n",
       "    <tr>\n",
       "      <th>3</th>\n",
       "      <td>A375</td>\n",
       "      <td>27.0</td>\n",
       "      <td>72.0</td>\n",
       "    </tr>\n",
       "    <tr>\n",
       "      <th>4</th>\n",
       "      <td>A498</td>\n",
       "      <td>1107.0</td>\n",
       "      <td>482.0</td>\n",
       "    </tr>\n",
       "    <tr>\n",
       "      <th>...</th>\n",
       "      <td>...</td>\n",
       "      <td>...</td>\n",
       "      <td>...</td>\n",
       "    </tr>\n",
       "    <tr>\n",
       "      <th>68</th>\n",
       "      <td>UACC257</td>\n",
       "      <td>846.0</td>\n",
       "      <td>753.0</td>\n",
       "    </tr>\n",
       "    <tr>\n",
       "      <th>69</th>\n",
       "      <td>UACC62</td>\n",
       "      <td>1043.0</td>\n",
       "      <td>616.0</td>\n",
       "    </tr>\n",
       "    <tr>\n",
       "      <th>70</th>\n",
       "      <td>VCAP</td>\n",
       "      <td>23.0</td>\n",
       "      <td>75.0</td>\n",
       "    </tr>\n",
       "    <tr>\n",
       "      <th>71</th>\n",
       "      <td>WM115</td>\n",
       "      <td>1.0</td>\n",
       "      <td>0.0</td>\n",
       "    </tr>\n",
       "    <tr>\n",
       "      <th>72</th>\n",
       "      <td>ZR751</td>\n",
       "      <td>78.0</td>\n",
       "      <td>20.0</td>\n",
       "    </tr>\n",
       "  </tbody>\n",
       "</table>\n",
       "<p>73 rows × 3 columns</p>\n",
       "</div>"
      ],
      "text/plain": [
       "synergy     cell       0      1\n",
       "0           786O   965.0  620.0\n",
       "1          A2058    16.0   82.0\n",
       "2          A2780     4.0   94.0\n",
       "3           A375    27.0   72.0\n",
       "4           A498  1107.0  482.0\n",
       "..           ...     ...    ...\n",
       "68       UACC257   846.0  753.0\n",
       "69        UACC62  1043.0  616.0\n",
       "70          VCAP    23.0   75.0\n",
       "71         WM115     1.0    0.0\n",
       "72         ZR751    78.0   20.0\n",
       "\n",
       "[73 rows x 3 columns]"
      ]
     },
     "execution_count": 66,
     "metadata": {},
     "output_type": "execute_result"
    }
   ],
   "source": [
    "counts_df = counts_df.pivot(index='cell', columns='synergy', values='count').reset_index().fillna(0)\n",
    "counts_df"
   ]
  },
  {
   "cell_type": "code",
   "execution_count": 89,
   "metadata": {},
   "outputs": [
    {
     "data": {
      "text/html": [
       "<div>\n",
       "<style scoped>\n",
       "    .dataframe tbody tr th:only-of-type {\n",
       "        vertical-align: middle;\n",
       "    }\n",
       "\n",
       "    .dataframe tbody tr th {\n",
       "        vertical-align: top;\n",
       "    }\n",
       "\n",
       "    .dataframe thead th {\n",
       "        text-align: right;\n",
       "    }\n",
       "</style>\n",
       "<table border=\"1\" class=\"dataframe\">\n",
       "  <thead>\n",
       "    <tr style=\"text-align: right;\">\n",
       "      <th>synergy</th>\n",
       "      <th>cell</th>\n",
       "      <th>0</th>\n",
       "      <th>1</th>\n",
       "      <th>total</th>\n",
       "      <th>0_relative</th>\n",
       "      <th>1_relative</th>\n",
       "      <th>inbalance</th>\n",
       "      <th>imbalance</th>\n",
       "    </tr>\n",
       "  </thead>\n",
       "  <tbody>\n",
       "    <tr>\n",
       "      <th>0</th>\n",
       "      <td>786O</td>\n",
       "      <td>965.0</td>\n",
       "      <td>620.0</td>\n",
       "      <td>1585.0</td>\n",
       "      <td>0.608833</td>\n",
       "      <td>0.391167</td>\n",
       "      <td>0.217666</td>\n",
       "      <td>0.217666</td>\n",
       "    </tr>\n",
       "    <tr>\n",
       "      <th>1</th>\n",
       "      <td>A2058</td>\n",
       "      <td>16.0</td>\n",
       "      <td>82.0</td>\n",
       "      <td>98.0</td>\n",
       "      <td>0.163265</td>\n",
       "      <td>0.836735</td>\n",
       "      <td>0.673469</td>\n",
       "      <td>0.673469</td>\n",
       "    </tr>\n",
       "    <tr>\n",
       "      <th>2</th>\n",
       "      <td>A2780</td>\n",
       "      <td>4.0</td>\n",
       "      <td>94.0</td>\n",
       "      <td>98.0</td>\n",
       "      <td>0.040816</td>\n",
       "      <td>0.959184</td>\n",
       "      <td>0.918367</td>\n",
       "      <td>0.918367</td>\n",
       "    </tr>\n",
       "    <tr>\n",
       "      <th>3</th>\n",
       "      <td>A375</td>\n",
       "      <td>27.0</td>\n",
       "      <td>72.0</td>\n",
       "      <td>99.0</td>\n",
       "      <td>0.272727</td>\n",
       "      <td>0.727273</td>\n",
       "      <td>0.454545</td>\n",
       "      <td>0.454545</td>\n",
       "    </tr>\n",
       "    <tr>\n",
       "      <th>4</th>\n",
       "      <td>A498</td>\n",
       "      <td>1107.0</td>\n",
       "      <td>482.0</td>\n",
       "      <td>1589.0</td>\n",
       "      <td>0.696665</td>\n",
       "      <td>0.303335</td>\n",
       "      <td>0.393329</td>\n",
       "      <td>0.393329</td>\n",
       "    </tr>\n",
       "    <tr>\n",
       "      <th>...</th>\n",
       "      <td>...</td>\n",
       "      <td>...</td>\n",
       "      <td>...</td>\n",
       "      <td>...</td>\n",
       "      <td>...</td>\n",
       "      <td>...</td>\n",
       "      <td>...</td>\n",
       "      <td>...</td>\n",
       "    </tr>\n",
       "    <tr>\n",
       "      <th>68</th>\n",
       "      <td>UACC257</td>\n",
       "      <td>846.0</td>\n",
       "      <td>753.0</td>\n",
       "      <td>1599.0</td>\n",
       "      <td>0.529081</td>\n",
       "      <td>0.470919</td>\n",
       "      <td>0.058161</td>\n",
       "      <td>0.058161</td>\n",
       "    </tr>\n",
       "    <tr>\n",
       "      <th>69</th>\n",
       "      <td>UACC62</td>\n",
       "      <td>1043.0</td>\n",
       "      <td>616.0</td>\n",
       "      <td>1659.0</td>\n",
       "      <td>0.628692</td>\n",
       "      <td>0.371308</td>\n",
       "      <td>0.257384</td>\n",
       "      <td>0.257384</td>\n",
       "    </tr>\n",
       "    <tr>\n",
       "      <th>70</th>\n",
       "      <td>VCAP</td>\n",
       "      <td>23.0</td>\n",
       "      <td>75.0</td>\n",
       "      <td>98.0</td>\n",
       "      <td>0.234694</td>\n",
       "      <td>0.765306</td>\n",
       "      <td>0.530612</td>\n",
       "      <td>0.530612</td>\n",
       "    </tr>\n",
       "    <tr>\n",
       "      <th>71</th>\n",
       "      <td>WM115</td>\n",
       "      <td>1.0</td>\n",
       "      <td>0.0</td>\n",
       "      <td>1.0</td>\n",
       "      <td>1.000000</td>\n",
       "      <td>0.000000</td>\n",
       "      <td>1.000000</td>\n",
       "      <td>1.000000</td>\n",
       "    </tr>\n",
       "    <tr>\n",
       "      <th>72</th>\n",
       "      <td>ZR751</td>\n",
       "      <td>78.0</td>\n",
       "      <td>20.0</td>\n",
       "      <td>98.0</td>\n",
       "      <td>0.795918</td>\n",
       "      <td>0.204082</td>\n",
       "      <td>0.591837</td>\n",
       "      <td>0.591837</td>\n",
       "    </tr>\n",
       "  </tbody>\n",
       "</table>\n",
       "<p>73 rows × 8 columns</p>\n",
       "</div>"
      ],
      "text/plain": [
       "synergy     cell       0      1   total  0_relative  1_relative  inbalance  \\\n",
       "0           786O   965.0  620.0  1585.0    0.608833    0.391167   0.217666   \n",
       "1          A2058    16.0   82.0    98.0    0.163265    0.836735   0.673469   \n",
       "2          A2780     4.0   94.0    98.0    0.040816    0.959184   0.918367   \n",
       "3           A375    27.0   72.0    99.0    0.272727    0.727273   0.454545   \n",
       "4           A498  1107.0  482.0  1589.0    0.696665    0.303335   0.393329   \n",
       "..           ...     ...    ...     ...         ...         ...        ...   \n",
       "68       UACC257   846.0  753.0  1599.0    0.529081    0.470919   0.058161   \n",
       "69        UACC62  1043.0  616.0  1659.0    0.628692    0.371308   0.257384   \n",
       "70          VCAP    23.0   75.0    98.0    0.234694    0.765306   0.530612   \n",
       "71         WM115     1.0    0.0     1.0    1.000000    0.000000   1.000000   \n",
       "72         ZR751    78.0   20.0    98.0    0.795918    0.204082   0.591837   \n",
       "\n",
       "synergy  imbalance  \n",
       "0         0.217666  \n",
       "1         0.673469  \n",
       "2         0.918367  \n",
       "3         0.454545  \n",
       "4         0.393329  \n",
       "..             ...  \n",
       "68        0.058161  \n",
       "69        0.257384  \n",
       "70        0.530612  \n",
       "71        1.000000  \n",
       "72        0.591837  \n",
       "\n",
       "[73 rows x 8 columns]"
      ]
     },
     "execution_count": 89,
     "metadata": {},
     "output_type": "execute_result"
    }
   ],
   "source": [
    "counts_df['total'] = counts_df[0] + counts_df[1]\n",
    "counts_df['0_relative'] = counts_df[0] / counts_df['total']\n",
    "counts_df['1_relative'] = counts_df[1] / counts_df['total']\n",
    "counts_df['imbalance'] = abs(0.5 - counts_df['0_relative']) * 2\n",
    "counts_df"
   ]
  },
  {
   "cell_type": "code",
   "execution_count": 151,
   "metadata": {},
   "outputs": [
    {
     "data": {
      "text/html": [
       "<div>\n",
       "<style scoped>\n",
       "    .dataframe tbody tr th:only-of-type {\n",
       "        vertical-align: middle;\n",
       "    }\n",
       "\n",
       "    .dataframe tbody tr th {\n",
       "        vertical-align: top;\n",
       "    }\n",
       "\n",
       "    .dataframe thead th {\n",
       "        text-align: right;\n",
       "    }\n",
       "</style>\n",
       "<table border=\"1\" class=\"dataframe\">\n",
       "  <thead>\n",
       "    <tr style=\"text-align: right;\">\n",
       "      <th>synergy</th>\n",
       "      <th>cell</th>\n",
       "      <th>0</th>\n",
       "      <th>1</th>\n",
       "      <th>total</th>\n",
       "      <th>0_relative</th>\n",
       "      <th>1_relative</th>\n",
       "      <th>inbalance</th>\n",
       "      <th>imbalance</th>\n",
       "    </tr>\n",
       "  </thead>\n",
       "  <tbody>\n",
       "    <tr>\n",
       "      <th>71</th>\n",
       "      <td>WM115</td>\n",
       "      <td>1.0</td>\n",
       "      <td>0.0</td>\n",
       "      <td>1.0</td>\n",
       "      <td>1.000000</td>\n",
       "      <td>0.000000</td>\n",
       "      <td>1.000000</td>\n",
       "      <td>1.000000</td>\n",
       "    </tr>\n",
       "    <tr>\n",
       "      <th>22</th>\n",
       "      <td>HUH7</td>\n",
       "      <td>20.0</td>\n",
       "      <td>1.0</td>\n",
       "      <td>21.0</td>\n",
       "      <td>0.952381</td>\n",
       "      <td>0.047619</td>\n",
       "      <td>0.904762</td>\n",
       "      <td>0.904762</td>\n",
       "    </tr>\n",
       "    <tr>\n",
       "      <th>72</th>\n",
       "      <td>ZR751</td>\n",
       "      <td>78.0</td>\n",
       "      <td>20.0</td>\n",
       "      <td>98.0</td>\n",
       "      <td>0.795918</td>\n",
       "      <td>0.204082</td>\n",
       "      <td>0.591837</td>\n",
       "      <td>0.591837</td>\n",
       "    </tr>\n",
       "    <tr>\n",
       "      <th>26</th>\n",
       "      <td>KPL1</td>\n",
       "      <td>74.0</td>\n",
       "      <td>24.0</td>\n",
       "      <td>98.0</td>\n",
       "      <td>0.755102</td>\n",
       "      <td>0.244898</td>\n",
       "      <td>0.510204</td>\n",
       "      <td>0.510204</td>\n",
       "    </tr>\n",
       "    <tr>\n",
       "      <th>45</th>\n",
       "      <td>NCIH522</td>\n",
       "      <td>1115.0</td>\n",
       "      <td>451.0</td>\n",
       "      <td>1566.0</td>\n",
       "      <td>0.712005</td>\n",
       "      <td>0.287995</td>\n",
       "      <td>0.424010</td>\n",
       "      <td>0.424010</td>\n",
       "    </tr>\n",
       "    <tr>\n",
       "      <th>...</th>\n",
       "      <td>...</td>\n",
       "      <td>...</td>\n",
       "      <td>...</td>\n",
       "      <td>...</td>\n",
       "      <td>...</td>\n",
       "      <td>...</td>\n",
       "      <td>...</td>\n",
       "      <td>...</td>\n",
       "    </tr>\n",
       "    <tr>\n",
       "      <th>1</th>\n",
       "      <td>A2058</td>\n",
       "      <td>16.0</td>\n",
       "      <td>82.0</td>\n",
       "      <td>98.0</td>\n",
       "      <td>0.163265</td>\n",
       "      <td>0.836735</td>\n",
       "      <td>0.673469</td>\n",
       "      <td>0.673469</td>\n",
       "    </tr>\n",
       "    <tr>\n",
       "      <th>14</th>\n",
       "      <td>ES2</td>\n",
       "      <td>15.0</td>\n",
       "      <td>83.0</td>\n",
       "      <td>98.0</td>\n",
       "      <td>0.153061</td>\n",
       "      <td>0.846939</td>\n",
       "      <td>0.693878</td>\n",
       "      <td>0.693878</td>\n",
       "    </tr>\n",
       "    <tr>\n",
       "      <th>11</th>\n",
       "      <td>COLO320</td>\n",
       "      <td>11.0</td>\n",
       "      <td>87.0</td>\n",
       "      <td>98.0</td>\n",
       "      <td>0.112245</td>\n",
       "      <td>0.887755</td>\n",
       "      <td>0.775510</td>\n",
       "      <td>0.775510</td>\n",
       "    </tr>\n",
       "    <tr>\n",
       "      <th>2</th>\n",
       "      <td>A2780</td>\n",
       "      <td>4.0</td>\n",
       "      <td>94.0</td>\n",
       "      <td>98.0</td>\n",
       "      <td>0.040816</td>\n",
       "      <td>0.959184</td>\n",
       "      <td>0.918367</td>\n",
       "      <td>0.918367</td>\n",
       "    </tr>\n",
       "    <tr>\n",
       "      <th>50</th>\n",
       "      <td>RD</td>\n",
       "      <td>0.0</td>\n",
       "      <td>2.0</td>\n",
       "      <td>2.0</td>\n",
       "      <td>0.000000</td>\n",
       "      <td>1.000000</td>\n",
       "      <td>1.000000</td>\n",
       "      <td>1.000000</td>\n",
       "    </tr>\n",
       "  </tbody>\n",
       "</table>\n",
       "<p>73 rows × 8 columns</p>\n",
       "</div>"
      ],
      "text/plain": [
       "synergy     cell       0      1   total  0_relative  1_relative  inbalance  \\\n",
       "71         WM115     1.0    0.0     1.0    1.000000    0.000000   1.000000   \n",
       "22          HUH7    20.0    1.0    21.0    0.952381    0.047619   0.904762   \n",
       "72         ZR751    78.0   20.0    98.0    0.795918    0.204082   0.591837   \n",
       "26          KPL1    74.0   24.0    98.0    0.755102    0.244898   0.510204   \n",
       "45       NCIH522  1115.0  451.0  1566.0    0.712005    0.287995   0.424010   \n",
       "..           ...     ...    ...     ...         ...         ...        ...   \n",
       "1          A2058    16.0   82.0    98.0    0.163265    0.836735   0.673469   \n",
       "14           ES2    15.0   83.0    98.0    0.153061    0.846939   0.693878   \n",
       "11       COLO320    11.0   87.0    98.0    0.112245    0.887755   0.775510   \n",
       "2          A2780     4.0   94.0    98.0    0.040816    0.959184   0.918367   \n",
       "50            RD     0.0    2.0     2.0    0.000000    1.000000   1.000000   \n",
       "\n",
       "synergy  imbalance  \n",
       "71        1.000000  \n",
       "22        0.904762  \n",
       "72        0.591837  \n",
       "26        0.510204  \n",
       "45        0.424010  \n",
       "..             ...  \n",
       "1         0.673469  \n",
       "14        0.693878  \n",
       "11        0.775510  \n",
       "2         0.918367  \n",
       "50        1.000000  \n",
       "\n",
       "[73 rows x 8 columns]"
      ]
     },
     "execution_count": 151,
     "metadata": {},
     "output_type": "execute_result"
    }
   ],
   "source": [
    "counts_df.sort_values(by='0_relative', ascending=False)"
   ]
  },
  {
   "cell_type": "code",
   "execution_count": 60,
   "metadata": {},
   "outputs": [
    {
     "data": {
      "application/vnd.plotly.v1+json": {
       "config": {
        "plotlyServerURL": "https://plot.ly"
       },
       "data": [
        {
         "alignmentgroup": "True",
         "bingroup": "x",
         "histfunc": "sum",
         "hovertemplate": "synergy=0<br>cell=%{x}<br>sum of count=%{y}<extra></extra>",
         "legendgroup": "0",
         "marker": {
          "color": "#636efa",
          "pattern": {
           "shape": ""
          }
         },
         "name": "0",
         "offsetgroup": "0",
         "orientation": "v",
         "showlegend": true,
         "type": "histogram",
         "x": [
          "786O",
          "A2058",
          "A2780",
          "A375",
          "A498",
          "A549",
          "ACHN",
          "BT549",
          "CAKI1",
          "CAOV3",
          "COLO205",
          "COLO320",
          "DLD1",
          "DU145",
          "ES2",
          "HCT116",
          "HCT15",
          "HDLM2",
          "HL60",
          "HS578T",
          "HT144",
          "HT29",
          "HUH7",
          "IGROV1",
          "K562",
          "KM12",
          "KPL1",
          "L1236",
          "L428",
          "LNCAPCLONEFGC",
          "LOVO",
          "LOXIMVI",
          "MALME3M",
          "MCF7",
          "MDAMB231",
          "MDAMB436",
          "MDAMB468",
          "MOLT4",
          "NCIH1650",
          "NCIH2122",
          "NCIH226",
          "NCIH23",
          "NCIH322",
          "NCIH460",
          "NCIH520",
          "NCIH522",
          "OV90",
          "OVCAR4",
          "OVCAR8",
          "PC3",
          "RKO",
          "RPMI7951",
          "RPMI8226",
          "SF295",
          "SKMEL2",
          "SKMEL28",
          "SKMEL30",
          "SKMEL5",
          "SKMES1",
          "SKOV3",
          "SNB19",
          "SW620",
          "SW837",
          "T47D",
          "TC32",
          "TC71",
          "U251MG",
          "UACC257",
          "UACC62",
          "VCAP",
          "WM115",
          "ZR751"
         ],
         "xaxis": "x",
         "y": [
          965,
          16,
          4,
          27,
          1107,
          903,
          922,
          808,
          995,
          28,
          693,
          11,
          23,
          842,
          15,
          813,
          815,
          5,
          567,
          748,
          32,
          727,
          20,
          959,
          788,
          976,
          74,
          106,
          2,
          63,
          63,
          892,
          913,
          977,
          1060,
          57,
          943,
          676,
          67,
          18,
          962,
          1024,
          735,
          773,
          29,
          1115,
          52,
          1020,
          859,
          1011,
          30,
          39,
          613,
          992,
          521,
          743,
          20,
          844,
          39,
          1047,
          755,
          746,
          51,
          1041,
          36,
          14,
          991,
          846,
          1043,
          23,
          1,
          78
         ],
         "yaxis": "y"
        },
        {
         "alignmentgroup": "True",
         "bingroup": "x",
         "histfunc": "sum",
         "hovertemplate": "synergy=1<br>cell=%{x}<br>sum of count=%{y}<extra></extra>",
         "legendgroup": "1",
         "marker": {
          "color": "#EF553B",
          "pattern": {
           "shape": ""
          }
         },
         "name": "1",
         "offsetgroup": "1",
         "orientation": "v",
         "showlegend": true,
         "type": "histogram",
         "x": [
          "786O",
          "A2058",
          "A2780",
          "A375",
          "A498",
          "A549",
          "ACHN",
          "BT549",
          "CAKI1",
          "CAOV3",
          "COLO205",
          "COLO320",
          "DLD1",
          "DU145",
          "ES2",
          "HCT116",
          "HCT15",
          "HDLM2",
          "HL60",
          "HS578T",
          "HT144",
          "HT29",
          "HUH7",
          "IGROV1",
          "K562",
          "KM12",
          "KPL1",
          "L1236",
          "L428",
          "LNCAPCLONEFGC",
          "LOVO",
          "LOXIMVI",
          "MALME3M",
          "MCF7",
          "MDAMB231",
          "MDAMB436",
          "MDAMB468",
          "MOLT4",
          "NCIH1650",
          "NCIH2122",
          "NCIH226",
          "NCIH23",
          "NCIH322",
          "NCIH460",
          "NCIH520",
          "NCIH522",
          "OV90",
          "OVCAR4",
          "OVCAR8",
          "PC3",
          "RD",
          "RKO",
          "RPMI7951",
          "RPMI8226",
          "SF295",
          "SKMEL2",
          "SKMEL28",
          "SKMEL30",
          "SKMEL5",
          "SKMES1",
          "SKOV3",
          "SNB19",
          "SW620",
          "SW837",
          "T47D",
          "TC32",
          "TC71",
          "U251MG",
          "UACC257",
          "UACC62",
          "VCAP",
          "ZR751"
         ],
         "xaxis": "x",
         "y": [
          620,
          82,
          94,
          72,
          482,
          676,
          678,
          772,
          590,
          70,
          894,
          87,
          75,
          739,
          83,
          846,
          773,
          7,
          948,
          829,
          66,
          926,
          1,
          614,
          783,
          602,
          24,
          484,
          10,
          35,
          35,
          593,
          675,
          617,
          531,
          41,
          635,
          869,
          31,
          80,
          620,
          641,
          838,
          869,
          69,
          451,
          46,
          562,
          717,
          571,
          2,
          68,
          59,
          906,
          562,
          646,
          851,
          78,
          740,
          59,
          616,
          838,
          911,
          47,
          606,
          84,
          37,
          596,
          753,
          616,
          75,
          20
         ],
         "yaxis": "y"
        }
       ],
       "layout": {
        "barmode": "group",
        "legend": {
         "title": {
          "text": "synergy"
         },
         "tracegroupgap": 0
        },
        "margin": {
         "t": 60
        },
        "template": {
         "data": {
          "bar": [
           {
            "error_x": {
             "color": "#2a3f5f"
            },
            "error_y": {
             "color": "#2a3f5f"
            },
            "marker": {
             "line": {
              "color": "#E5ECF6",
              "width": 0.5
             },
             "pattern": {
              "fillmode": "overlay",
              "size": 10,
              "solidity": 0.2
             }
            },
            "type": "bar"
           }
          ],
          "barpolar": [
           {
            "marker": {
             "line": {
              "color": "#E5ECF6",
              "width": 0.5
             },
             "pattern": {
              "fillmode": "overlay",
              "size": 10,
              "solidity": 0.2
             }
            },
            "type": "barpolar"
           }
          ],
          "carpet": [
           {
            "aaxis": {
             "endlinecolor": "#2a3f5f",
             "gridcolor": "white",
             "linecolor": "white",
             "minorgridcolor": "white",
             "startlinecolor": "#2a3f5f"
            },
            "baxis": {
             "endlinecolor": "#2a3f5f",
             "gridcolor": "white",
             "linecolor": "white",
             "minorgridcolor": "white",
             "startlinecolor": "#2a3f5f"
            },
            "type": "carpet"
           }
          ],
          "choropleth": [
           {
            "colorbar": {
             "outlinewidth": 0,
             "ticks": ""
            },
            "type": "choropleth"
           }
          ],
          "contour": [
           {
            "colorbar": {
             "outlinewidth": 0,
             "ticks": ""
            },
            "colorscale": [
             [
              0,
              "#0d0887"
             ],
             [
              0.1111111111111111,
              "#46039f"
             ],
             [
              0.2222222222222222,
              "#7201a8"
             ],
             [
              0.3333333333333333,
              "#9c179e"
             ],
             [
              0.4444444444444444,
              "#bd3786"
             ],
             [
              0.5555555555555556,
              "#d8576b"
             ],
             [
              0.6666666666666666,
              "#ed7953"
             ],
             [
              0.7777777777777778,
              "#fb9f3a"
             ],
             [
              0.8888888888888888,
              "#fdca26"
             ],
             [
              1,
              "#f0f921"
             ]
            ],
            "type": "contour"
           }
          ],
          "contourcarpet": [
           {
            "colorbar": {
             "outlinewidth": 0,
             "ticks": ""
            },
            "type": "contourcarpet"
           }
          ],
          "heatmap": [
           {
            "colorbar": {
             "outlinewidth": 0,
             "ticks": ""
            },
            "colorscale": [
             [
              0,
              "#0d0887"
             ],
             [
              0.1111111111111111,
              "#46039f"
             ],
             [
              0.2222222222222222,
              "#7201a8"
             ],
             [
              0.3333333333333333,
              "#9c179e"
             ],
             [
              0.4444444444444444,
              "#bd3786"
             ],
             [
              0.5555555555555556,
              "#d8576b"
             ],
             [
              0.6666666666666666,
              "#ed7953"
             ],
             [
              0.7777777777777778,
              "#fb9f3a"
             ],
             [
              0.8888888888888888,
              "#fdca26"
             ],
             [
              1,
              "#f0f921"
             ]
            ],
            "type": "heatmap"
           }
          ],
          "heatmapgl": [
           {
            "colorbar": {
             "outlinewidth": 0,
             "ticks": ""
            },
            "colorscale": [
             [
              0,
              "#0d0887"
             ],
             [
              0.1111111111111111,
              "#46039f"
             ],
             [
              0.2222222222222222,
              "#7201a8"
             ],
             [
              0.3333333333333333,
              "#9c179e"
             ],
             [
              0.4444444444444444,
              "#bd3786"
             ],
             [
              0.5555555555555556,
              "#d8576b"
             ],
             [
              0.6666666666666666,
              "#ed7953"
             ],
             [
              0.7777777777777778,
              "#fb9f3a"
             ],
             [
              0.8888888888888888,
              "#fdca26"
             ],
             [
              1,
              "#f0f921"
             ]
            ],
            "type": "heatmapgl"
           }
          ],
          "histogram": [
           {
            "marker": {
             "pattern": {
              "fillmode": "overlay",
              "size": 10,
              "solidity": 0.2
             }
            },
            "type": "histogram"
           }
          ],
          "histogram2d": [
           {
            "colorbar": {
             "outlinewidth": 0,
             "ticks": ""
            },
            "colorscale": [
             [
              0,
              "#0d0887"
             ],
             [
              0.1111111111111111,
              "#46039f"
             ],
             [
              0.2222222222222222,
              "#7201a8"
             ],
             [
              0.3333333333333333,
              "#9c179e"
             ],
             [
              0.4444444444444444,
              "#bd3786"
             ],
             [
              0.5555555555555556,
              "#d8576b"
             ],
             [
              0.6666666666666666,
              "#ed7953"
             ],
             [
              0.7777777777777778,
              "#fb9f3a"
             ],
             [
              0.8888888888888888,
              "#fdca26"
             ],
             [
              1,
              "#f0f921"
             ]
            ],
            "type": "histogram2d"
           }
          ],
          "histogram2dcontour": [
           {
            "colorbar": {
             "outlinewidth": 0,
             "ticks": ""
            },
            "colorscale": [
             [
              0,
              "#0d0887"
             ],
             [
              0.1111111111111111,
              "#46039f"
             ],
             [
              0.2222222222222222,
              "#7201a8"
             ],
             [
              0.3333333333333333,
              "#9c179e"
             ],
             [
              0.4444444444444444,
              "#bd3786"
             ],
             [
              0.5555555555555556,
              "#d8576b"
             ],
             [
              0.6666666666666666,
              "#ed7953"
             ],
             [
              0.7777777777777778,
              "#fb9f3a"
             ],
             [
              0.8888888888888888,
              "#fdca26"
             ],
             [
              1,
              "#f0f921"
             ]
            ],
            "type": "histogram2dcontour"
           }
          ],
          "mesh3d": [
           {
            "colorbar": {
             "outlinewidth": 0,
             "ticks": ""
            },
            "type": "mesh3d"
           }
          ],
          "parcoords": [
           {
            "line": {
             "colorbar": {
              "outlinewidth": 0,
              "ticks": ""
             }
            },
            "type": "parcoords"
           }
          ],
          "pie": [
           {
            "automargin": true,
            "type": "pie"
           }
          ],
          "scatter": [
           {
            "fillpattern": {
             "fillmode": "overlay",
             "size": 10,
             "solidity": 0.2
            },
            "type": "scatter"
           }
          ],
          "scatter3d": [
           {
            "line": {
             "colorbar": {
              "outlinewidth": 0,
              "ticks": ""
             }
            },
            "marker": {
             "colorbar": {
              "outlinewidth": 0,
              "ticks": ""
             }
            },
            "type": "scatter3d"
           }
          ],
          "scattercarpet": [
           {
            "marker": {
             "colorbar": {
              "outlinewidth": 0,
              "ticks": ""
             }
            },
            "type": "scattercarpet"
           }
          ],
          "scattergeo": [
           {
            "marker": {
             "colorbar": {
              "outlinewidth": 0,
              "ticks": ""
             }
            },
            "type": "scattergeo"
           }
          ],
          "scattergl": [
           {
            "marker": {
             "colorbar": {
              "outlinewidth": 0,
              "ticks": ""
             }
            },
            "type": "scattergl"
           }
          ],
          "scattermapbox": [
           {
            "marker": {
             "colorbar": {
              "outlinewidth": 0,
              "ticks": ""
             }
            },
            "type": "scattermapbox"
           }
          ],
          "scatterpolar": [
           {
            "marker": {
             "colorbar": {
              "outlinewidth": 0,
              "ticks": ""
             }
            },
            "type": "scatterpolar"
           }
          ],
          "scatterpolargl": [
           {
            "marker": {
             "colorbar": {
              "outlinewidth": 0,
              "ticks": ""
             }
            },
            "type": "scatterpolargl"
           }
          ],
          "scatterternary": [
           {
            "marker": {
             "colorbar": {
              "outlinewidth": 0,
              "ticks": ""
             }
            },
            "type": "scatterternary"
           }
          ],
          "surface": [
           {
            "colorbar": {
             "outlinewidth": 0,
             "ticks": ""
            },
            "colorscale": [
             [
              0,
              "#0d0887"
             ],
             [
              0.1111111111111111,
              "#46039f"
             ],
             [
              0.2222222222222222,
              "#7201a8"
             ],
             [
              0.3333333333333333,
              "#9c179e"
             ],
             [
              0.4444444444444444,
              "#bd3786"
             ],
             [
              0.5555555555555556,
              "#d8576b"
             ],
             [
              0.6666666666666666,
              "#ed7953"
             ],
             [
              0.7777777777777778,
              "#fb9f3a"
             ],
             [
              0.8888888888888888,
              "#fdca26"
             ],
             [
              1,
              "#f0f921"
             ]
            ],
            "type": "surface"
           }
          ],
          "table": [
           {
            "cells": {
             "fill": {
              "color": "#EBF0F8"
             },
             "line": {
              "color": "white"
             }
            },
            "header": {
             "fill": {
              "color": "#C8D4E3"
             },
             "line": {
              "color": "white"
             }
            },
            "type": "table"
           }
          ]
         },
         "layout": {
          "annotationdefaults": {
           "arrowcolor": "#2a3f5f",
           "arrowhead": 0,
           "arrowwidth": 1
          },
          "autotypenumbers": "strict",
          "coloraxis": {
           "colorbar": {
            "outlinewidth": 0,
            "ticks": ""
           }
          },
          "colorscale": {
           "diverging": [
            [
             0,
             "#8e0152"
            ],
            [
             0.1,
             "#c51b7d"
            ],
            [
             0.2,
             "#de77ae"
            ],
            [
             0.3,
             "#f1b6da"
            ],
            [
             0.4,
             "#fde0ef"
            ],
            [
             0.5,
             "#f7f7f7"
            ],
            [
             0.6,
             "#e6f5d0"
            ],
            [
             0.7,
             "#b8e186"
            ],
            [
             0.8,
             "#7fbc41"
            ],
            [
             0.9,
             "#4d9221"
            ],
            [
             1,
             "#276419"
            ]
           ],
           "sequential": [
            [
             0,
             "#0d0887"
            ],
            [
             0.1111111111111111,
             "#46039f"
            ],
            [
             0.2222222222222222,
             "#7201a8"
            ],
            [
             0.3333333333333333,
             "#9c179e"
            ],
            [
             0.4444444444444444,
             "#bd3786"
            ],
            [
             0.5555555555555556,
             "#d8576b"
            ],
            [
             0.6666666666666666,
             "#ed7953"
            ],
            [
             0.7777777777777778,
             "#fb9f3a"
            ],
            [
             0.8888888888888888,
             "#fdca26"
            ],
            [
             1,
             "#f0f921"
            ]
           ],
           "sequentialminus": [
            [
             0,
             "#0d0887"
            ],
            [
             0.1111111111111111,
             "#46039f"
            ],
            [
             0.2222222222222222,
             "#7201a8"
            ],
            [
             0.3333333333333333,
             "#9c179e"
            ],
            [
             0.4444444444444444,
             "#bd3786"
            ],
            [
             0.5555555555555556,
             "#d8576b"
            ],
            [
             0.6666666666666666,
             "#ed7953"
            ],
            [
             0.7777777777777778,
             "#fb9f3a"
            ],
            [
             0.8888888888888888,
             "#fdca26"
            ],
            [
             1,
             "#f0f921"
            ]
           ]
          },
          "colorway": [
           "#636efa",
           "#EF553B",
           "#00cc96",
           "#ab63fa",
           "#FFA15A",
           "#19d3f3",
           "#FF6692",
           "#B6E880",
           "#FF97FF",
           "#FECB52"
          ],
          "font": {
           "color": "#2a3f5f"
          },
          "geo": {
           "bgcolor": "white",
           "lakecolor": "white",
           "landcolor": "#E5ECF6",
           "showlakes": true,
           "showland": true,
           "subunitcolor": "white"
          },
          "hoverlabel": {
           "align": "left"
          },
          "hovermode": "closest",
          "mapbox": {
           "style": "light"
          },
          "paper_bgcolor": "white",
          "plot_bgcolor": "#E5ECF6",
          "polar": {
           "angularaxis": {
            "gridcolor": "white",
            "linecolor": "white",
            "ticks": ""
           },
           "bgcolor": "#E5ECF6",
           "radialaxis": {
            "gridcolor": "white",
            "linecolor": "white",
            "ticks": ""
           }
          },
          "scene": {
           "xaxis": {
            "backgroundcolor": "#E5ECF6",
            "gridcolor": "white",
            "gridwidth": 2,
            "linecolor": "white",
            "showbackground": true,
            "ticks": "",
            "zerolinecolor": "white"
           },
           "yaxis": {
            "backgroundcolor": "#E5ECF6",
            "gridcolor": "white",
            "gridwidth": 2,
            "linecolor": "white",
            "showbackground": true,
            "ticks": "",
            "zerolinecolor": "white"
           },
           "zaxis": {
            "backgroundcolor": "#E5ECF6",
            "gridcolor": "white",
            "gridwidth": 2,
            "linecolor": "white",
            "showbackground": true,
            "ticks": "",
            "zerolinecolor": "white"
           }
          },
          "shapedefaults": {
           "line": {
            "color": "#2a3f5f"
           }
          },
          "ternary": {
           "aaxis": {
            "gridcolor": "white",
            "linecolor": "white",
            "ticks": ""
           },
           "baxis": {
            "gridcolor": "white",
            "linecolor": "white",
            "ticks": ""
           },
           "bgcolor": "#E5ECF6",
           "caxis": {
            "gridcolor": "white",
            "linecolor": "white",
            "ticks": ""
           }
          },
          "title": {
           "x": 0.05
          },
          "xaxis": {
           "automargin": true,
           "gridcolor": "white",
           "linecolor": "white",
           "ticks": "",
           "title": {
            "standoff": 15
           },
           "zerolinecolor": "white",
           "zerolinewidth": 2
          },
          "yaxis": {
           "automargin": true,
           "gridcolor": "white",
           "linecolor": "white",
           "ticks": "",
           "title": {
            "standoff": 15
           },
           "zerolinecolor": "white",
           "zerolinewidth": 2
          }
         }
        },
        "xaxis": {
         "anchor": "y",
         "domain": [
          0,
          1
         ],
         "title": {
          "text": "cell"
         }
        },
        "yaxis": {
         "anchor": "x",
         "domain": [
          0,
          1
         ],
         "title": {
          "text": "sum of count"
         }
        }
       }
      }
     },
     "metadata": {},
     "output_type": "display_data"
    }
   ],
   "source": [
    "px.histogram(counts_df, x='cell', y='count', color='synergy', barmode='group')"
   ]
  },
  {
   "cell_type": "code",
   "execution_count": 100,
   "metadata": {},
   "outputs": [
    {
     "data": {
      "application/vnd.plotly.v1+json": {
       "config": {
        "plotlyServerURL": "https://plot.ly"
       },
       "data": [
        {
         "alignmentgroup": "True",
         "hovertemplate": "cell=%{x}<br>imbalance=%{y}<extra></extra>",
         "legendgroup": "",
         "marker": {
          "color": "#636efa",
          "pattern": {
           "shape": ""
          }
         },
         "name": "",
         "offsetgroup": "",
         "orientation": "v",
         "showlegend": false,
         "textposition": "auto",
         "type": "bar",
         "x": [
          "RD",
          "WM115",
          "A2780",
          "HUH7",
          "COLO320",
          "ES2",
          "A2058",
          "L428",
          "L1236",
          "NCIH2122",
          "ZR751",
          "SKMEL30",
          "DLD1",
          "VCAP",
          "KPL1",
          "A375",
          "TC71",
          "CAOV3",
          "NCIH522",
          "NCIH520",
          "TC32",
          "A498",
          "RKO",
          "NCIH1650",
          "HT144",
          "MDAMB231",
          "OVCAR4",
          "LNCAPCLONEFGC",
          "LOVO",
          "PC3",
          "SF295",
          "T47D",
          "SKOV3",
          "UACC62",
          "CAKI1",
          "HL60",
          "U251MG",
          "KM12",
          "NCIH23",
          "MCF7",
          "IGROV1",
          "786O",
          "NCIH226",
          "SKMES1",
          "RPMI7951",
          "LOXIMVI",
          "MDAMB468",
          "RPMI8226",
          "HDLM2",
          "MDAMB436",
          "ACHN",
          "MALME3M",
          "A549",
          "COLO205",
          "MOLT4",
          "HT29",
          "SKMEL2",
          "SW620",
          "OVCAR8",
          "SKMEL28",
          "SKMEL5",
          "NCIH322",
          "DU145",
          "OV90",
          "NCIH460",
          "UACC257",
          "SNB19",
          "HS578T",
          "SW837",
          "HCT15",
          "BT549",
          "HCT116",
          "K562"
         ],
         "xaxis": "x",
         "y": [
          1,
          1,
          0.9183673469387755,
          0.9047619047619047,
          0.7755102040816326,
          0.6938775510204082,
          0.6734693877551021,
          0.6666666666666667,
          0.6406779661016949,
          0.6326530612244898,
          0.5918367346938775,
          0.5918367346938775,
          0.5306122448979591,
          0.5306122448979591,
          0.510204081632653,
          0.4545454545454546,
          0.4509803921568627,
          0.4285714285714286,
          0.4240102171136655,
          0.40816326530612246,
          0.4,
          0.3933291378225299,
          0.3877551020408163,
          0.36734693877551017,
          0.34693877551020413,
          0.3324952859836581,
          0.2895069532237673,
          0.2857142857142858,
          0.2857142857142858,
          0.2781289506953224,
          0.27670527670527667,
          0.2641165755919854,
          0.2591701743836441,
          0.2573839662447257,
          0.25552050473186116,
          0.2514851485148515,
          0.24889729048519227,
          0.23700887198986065,
          0.23003003003002997,
          0.22584692597239653,
          0.21932612841703758,
          0.21766561514195581,
          0.21618204804045504,
          0.20408163265306123,
          0.20408163265306123,
          0.20134680134680139,
          0.1951837769328264,
          0.1928900592495063,
          0.16666666666666663,
          0.16326530612244894,
          0.15250000000000008,
          0.14987405541561705,
          0.14376187460417977,
          0.1266540642722117,
          0.12491909385113265,
          0.12038717483363581,
          0.10711225364181665,
          0.09957754978877487,
          0.09010152284263961,
          0.06775407779171894,
          0.06565656565656575,
          0.06547997457088361,
          0.0651486401012018,
          0.061224489795918435,
          0.05846528623629721,
          0.05816135084427776,
          0.05210295040803514,
          0.0513633481293595,
          0.04081632653061229,
          0.026448362720403074,
          0.022784810126582178,
          0.019891500904159143,
          0.0031826861871420142
         ],
         "yaxis": "y"
        }
       ],
       "layout": {
        "barmode": "relative",
        "legend": {
         "tracegroupgap": 0
        },
        "margin": {
         "t": 60
        },
        "template": {
         "data": {
          "bar": [
           {
            "error_x": {
             "color": "#2a3f5f"
            },
            "error_y": {
             "color": "#2a3f5f"
            },
            "marker": {
             "line": {
              "color": "#E5ECF6",
              "width": 0.5
             },
             "pattern": {
              "fillmode": "overlay",
              "size": 10,
              "solidity": 0.2
             }
            },
            "type": "bar"
           }
          ],
          "barpolar": [
           {
            "marker": {
             "line": {
              "color": "#E5ECF6",
              "width": 0.5
             },
             "pattern": {
              "fillmode": "overlay",
              "size": 10,
              "solidity": 0.2
             }
            },
            "type": "barpolar"
           }
          ],
          "carpet": [
           {
            "aaxis": {
             "endlinecolor": "#2a3f5f",
             "gridcolor": "white",
             "linecolor": "white",
             "minorgridcolor": "white",
             "startlinecolor": "#2a3f5f"
            },
            "baxis": {
             "endlinecolor": "#2a3f5f",
             "gridcolor": "white",
             "linecolor": "white",
             "minorgridcolor": "white",
             "startlinecolor": "#2a3f5f"
            },
            "type": "carpet"
           }
          ],
          "choropleth": [
           {
            "colorbar": {
             "outlinewidth": 0,
             "ticks": ""
            },
            "type": "choropleth"
           }
          ],
          "contour": [
           {
            "colorbar": {
             "outlinewidth": 0,
             "ticks": ""
            },
            "colorscale": [
             [
              0,
              "#0d0887"
             ],
             [
              0.1111111111111111,
              "#46039f"
             ],
             [
              0.2222222222222222,
              "#7201a8"
             ],
             [
              0.3333333333333333,
              "#9c179e"
             ],
             [
              0.4444444444444444,
              "#bd3786"
             ],
             [
              0.5555555555555556,
              "#d8576b"
             ],
             [
              0.6666666666666666,
              "#ed7953"
             ],
             [
              0.7777777777777778,
              "#fb9f3a"
             ],
             [
              0.8888888888888888,
              "#fdca26"
             ],
             [
              1,
              "#f0f921"
             ]
            ],
            "type": "contour"
           }
          ],
          "contourcarpet": [
           {
            "colorbar": {
             "outlinewidth": 0,
             "ticks": ""
            },
            "type": "contourcarpet"
           }
          ],
          "heatmap": [
           {
            "colorbar": {
             "outlinewidth": 0,
             "ticks": ""
            },
            "colorscale": [
             [
              0,
              "#0d0887"
             ],
             [
              0.1111111111111111,
              "#46039f"
             ],
             [
              0.2222222222222222,
              "#7201a8"
             ],
             [
              0.3333333333333333,
              "#9c179e"
             ],
             [
              0.4444444444444444,
              "#bd3786"
             ],
             [
              0.5555555555555556,
              "#d8576b"
             ],
             [
              0.6666666666666666,
              "#ed7953"
             ],
             [
              0.7777777777777778,
              "#fb9f3a"
             ],
             [
              0.8888888888888888,
              "#fdca26"
             ],
             [
              1,
              "#f0f921"
             ]
            ],
            "type": "heatmap"
           }
          ],
          "heatmapgl": [
           {
            "colorbar": {
             "outlinewidth": 0,
             "ticks": ""
            },
            "colorscale": [
             [
              0,
              "#0d0887"
             ],
             [
              0.1111111111111111,
              "#46039f"
             ],
             [
              0.2222222222222222,
              "#7201a8"
             ],
             [
              0.3333333333333333,
              "#9c179e"
             ],
             [
              0.4444444444444444,
              "#bd3786"
             ],
             [
              0.5555555555555556,
              "#d8576b"
             ],
             [
              0.6666666666666666,
              "#ed7953"
             ],
             [
              0.7777777777777778,
              "#fb9f3a"
             ],
             [
              0.8888888888888888,
              "#fdca26"
             ],
             [
              1,
              "#f0f921"
             ]
            ],
            "type": "heatmapgl"
           }
          ],
          "histogram": [
           {
            "marker": {
             "pattern": {
              "fillmode": "overlay",
              "size": 10,
              "solidity": 0.2
             }
            },
            "type": "histogram"
           }
          ],
          "histogram2d": [
           {
            "colorbar": {
             "outlinewidth": 0,
             "ticks": ""
            },
            "colorscale": [
             [
              0,
              "#0d0887"
             ],
             [
              0.1111111111111111,
              "#46039f"
             ],
             [
              0.2222222222222222,
              "#7201a8"
             ],
             [
              0.3333333333333333,
              "#9c179e"
             ],
             [
              0.4444444444444444,
              "#bd3786"
             ],
             [
              0.5555555555555556,
              "#d8576b"
             ],
             [
              0.6666666666666666,
              "#ed7953"
             ],
             [
              0.7777777777777778,
              "#fb9f3a"
             ],
             [
              0.8888888888888888,
              "#fdca26"
             ],
             [
              1,
              "#f0f921"
             ]
            ],
            "type": "histogram2d"
           }
          ],
          "histogram2dcontour": [
           {
            "colorbar": {
             "outlinewidth": 0,
             "ticks": ""
            },
            "colorscale": [
             [
              0,
              "#0d0887"
             ],
             [
              0.1111111111111111,
              "#46039f"
             ],
             [
              0.2222222222222222,
              "#7201a8"
             ],
             [
              0.3333333333333333,
              "#9c179e"
             ],
             [
              0.4444444444444444,
              "#bd3786"
             ],
             [
              0.5555555555555556,
              "#d8576b"
             ],
             [
              0.6666666666666666,
              "#ed7953"
             ],
             [
              0.7777777777777778,
              "#fb9f3a"
             ],
             [
              0.8888888888888888,
              "#fdca26"
             ],
             [
              1,
              "#f0f921"
             ]
            ],
            "type": "histogram2dcontour"
           }
          ],
          "mesh3d": [
           {
            "colorbar": {
             "outlinewidth": 0,
             "ticks": ""
            },
            "type": "mesh3d"
           }
          ],
          "parcoords": [
           {
            "line": {
             "colorbar": {
              "outlinewidth": 0,
              "ticks": ""
             }
            },
            "type": "parcoords"
           }
          ],
          "pie": [
           {
            "automargin": true,
            "type": "pie"
           }
          ],
          "scatter": [
           {
            "fillpattern": {
             "fillmode": "overlay",
             "size": 10,
             "solidity": 0.2
            },
            "type": "scatter"
           }
          ],
          "scatter3d": [
           {
            "line": {
             "colorbar": {
              "outlinewidth": 0,
              "ticks": ""
             }
            },
            "marker": {
             "colorbar": {
              "outlinewidth": 0,
              "ticks": ""
             }
            },
            "type": "scatter3d"
           }
          ],
          "scattercarpet": [
           {
            "marker": {
             "colorbar": {
              "outlinewidth": 0,
              "ticks": ""
             }
            },
            "type": "scattercarpet"
           }
          ],
          "scattergeo": [
           {
            "marker": {
             "colorbar": {
              "outlinewidth": 0,
              "ticks": ""
             }
            },
            "type": "scattergeo"
           }
          ],
          "scattergl": [
           {
            "marker": {
             "colorbar": {
              "outlinewidth": 0,
              "ticks": ""
             }
            },
            "type": "scattergl"
           }
          ],
          "scattermapbox": [
           {
            "marker": {
             "colorbar": {
              "outlinewidth": 0,
              "ticks": ""
             }
            },
            "type": "scattermapbox"
           }
          ],
          "scatterpolar": [
           {
            "marker": {
             "colorbar": {
              "outlinewidth": 0,
              "ticks": ""
             }
            },
            "type": "scatterpolar"
           }
          ],
          "scatterpolargl": [
           {
            "marker": {
             "colorbar": {
              "outlinewidth": 0,
              "ticks": ""
             }
            },
            "type": "scatterpolargl"
           }
          ],
          "scatterternary": [
           {
            "marker": {
             "colorbar": {
              "outlinewidth": 0,
              "ticks": ""
             }
            },
            "type": "scatterternary"
           }
          ],
          "surface": [
           {
            "colorbar": {
             "outlinewidth": 0,
             "ticks": ""
            },
            "colorscale": [
             [
              0,
              "#0d0887"
             ],
             [
              0.1111111111111111,
              "#46039f"
             ],
             [
              0.2222222222222222,
              "#7201a8"
             ],
             [
              0.3333333333333333,
              "#9c179e"
             ],
             [
              0.4444444444444444,
              "#bd3786"
             ],
             [
              0.5555555555555556,
              "#d8576b"
             ],
             [
              0.6666666666666666,
              "#ed7953"
             ],
             [
              0.7777777777777778,
              "#fb9f3a"
             ],
             [
              0.8888888888888888,
              "#fdca26"
             ],
             [
              1,
              "#f0f921"
             ]
            ],
            "type": "surface"
           }
          ],
          "table": [
           {
            "cells": {
             "fill": {
              "color": "#EBF0F8"
             },
             "line": {
              "color": "white"
             }
            },
            "header": {
             "fill": {
              "color": "#C8D4E3"
             },
             "line": {
              "color": "white"
             }
            },
            "type": "table"
           }
          ]
         },
         "layout": {
          "annotationdefaults": {
           "arrowcolor": "#2a3f5f",
           "arrowhead": 0,
           "arrowwidth": 1
          },
          "autotypenumbers": "strict",
          "coloraxis": {
           "colorbar": {
            "outlinewidth": 0,
            "ticks": ""
           }
          },
          "colorscale": {
           "diverging": [
            [
             0,
             "#8e0152"
            ],
            [
             0.1,
             "#c51b7d"
            ],
            [
             0.2,
             "#de77ae"
            ],
            [
             0.3,
             "#f1b6da"
            ],
            [
             0.4,
             "#fde0ef"
            ],
            [
             0.5,
             "#f7f7f7"
            ],
            [
             0.6,
             "#e6f5d0"
            ],
            [
             0.7,
             "#b8e186"
            ],
            [
             0.8,
             "#7fbc41"
            ],
            [
             0.9,
             "#4d9221"
            ],
            [
             1,
             "#276419"
            ]
           ],
           "sequential": [
            [
             0,
             "#0d0887"
            ],
            [
             0.1111111111111111,
             "#46039f"
            ],
            [
             0.2222222222222222,
             "#7201a8"
            ],
            [
             0.3333333333333333,
             "#9c179e"
            ],
            [
             0.4444444444444444,
             "#bd3786"
            ],
            [
             0.5555555555555556,
             "#d8576b"
            ],
            [
             0.6666666666666666,
             "#ed7953"
            ],
            [
             0.7777777777777778,
             "#fb9f3a"
            ],
            [
             0.8888888888888888,
             "#fdca26"
            ],
            [
             1,
             "#f0f921"
            ]
           ],
           "sequentialminus": [
            [
             0,
             "#0d0887"
            ],
            [
             0.1111111111111111,
             "#46039f"
            ],
            [
             0.2222222222222222,
             "#7201a8"
            ],
            [
             0.3333333333333333,
             "#9c179e"
            ],
            [
             0.4444444444444444,
             "#bd3786"
            ],
            [
             0.5555555555555556,
             "#d8576b"
            ],
            [
             0.6666666666666666,
             "#ed7953"
            ],
            [
             0.7777777777777778,
             "#fb9f3a"
            ],
            [
             0.8888888888888888,
             "#fdca26"
            ],
            [
             1,
             "#f0f921"
            ]
           ]
          },
          "colorway": [
           "#636efa",
           "#EF553B",
           "#00cc96",
           "#ab63fa",
           "#FFA15A",
           "#19d3f3",
           "#FF6692",
           "#B6E880",
           "#FF97FF",
           "#FECB52"
          ],
          "font": {
           "color": "#2a3f5f"
          },
          "geo": {
           "bgcolor": "white",
           "lakecolor": "white",
           "landcolor": "#E5ECF6",
           "showlakes": true,
           "showland": true,
           "subunitcolor": "white"
          },
          "hoverlabel": {
           "align": "left"
          },
          "hovermode": "closest",
          "mapbox": {
           "style": "light"
          },
          "paper_bgcolor": "white",
          "plot_bgcolor": "#E5ECF6",
          "polar": {
           "angularaxis": {
            "gridcolor": "white",
            "linecolor": "white",
            "ticks": ""
           },
           "bgcolor": "#E5ECF6",
           "radialaxis": {
            "gridcolor": "white",
            "linecolor": "white",
            "ticks": ""
           }
          },
          "scene": {
           "xaxis": {
            "backgroundcolor": "#E5ECF6",
            "gridcolor": "white",
            "gridwidth": 2,
            "linecolor": "white",
            "showbackground": true,
            "ticks": "",
            "zerolinecolor": "white"
           },
           "yaxis": {
            "backgroundcolor": "#E5ECF6",
            "gridcolor": "white",
            "gridwidth": 2,
            "linecolor": "white",
            "showbackground": true,
            "ticks": "",
            "zerolinecolor": "white"
           },
           "zaxis": {
            "backgroundcolor": "#E5ECF6",
            "gridcolor": "white",
            "gridwidth": 2,
            "linecolor": "white",
            "showbackground": true,
            "ticks": "",
            "zerolinecolor": "white"
           }
          },
          "shapedefaults": {
           "line": {
            "color": "#2a3f5f"
           }
          },
          "ternary": {
           "aaxis": {
            "gridcolor": "white",
            "linecolor": "white",
            "ticks": ""
           },
           "baxis": {
            "gridcolor": "white",
            "linecolor": "white",
            "ticks": ""
           },
           "bgcolor": "#E5ECF6",
           "caxis": {
            "gridcolor": "white",
            "linecolor": "white",
            "ticks": ""
           }
          },
          "title": {
           "x": 0.05
          },
          "xaxis": {
           "automargin": true,
           "gridcolor": "white",
           "linecolor": "white",
           "ticks": "",
           "title": {
            "standoff": 15
           },
           "zerolinecolor": "white",
           "zerolinewidth": 2
          },
          "yaxis": {
           "automargin": true,
           "gridcolor": "white",
           "linecolor": "white",
           "ticks": "",
           "title": {
            "standoff": 15
           },
           "zerolinecolor": "white",
           "zerolinewidth": 2
          }
         }
        },
        "width": 1200,
        "xaxis": {
         "anchor": "y",
         "domain": [
          0,
          1
         ],
         "title": {
          "text": "cell"
         }
        },
        "yaxis": {
         "anchor": "x",
         "domain": [
          0,
          1
         ],
         "title": {
          "text": "imbalance"
         }
        }
       }
      }
     },
     "metadata": {},
     "output_type": "display_data"
    }
   ],
   "source": [
    "px.bar(counts_df.sort_values(by='imbalance', ascending=False), y='imbalance', x='cell', width=1200)"
   ]
  },
  {
   "cell_type": "code",
   "execution_count": 101,
   "metadata": {},
   "outputs": [
    {
     "data": {
      "text/plain": [
       "0.5918831729938361"
      ]
     },
     "execution_count": 101,
     "metadata": {},
     "output_type": "execute_result"
    }
   ],
   "source": [
    "((counts_df['imbalance'] / 2 + 0.5) * counts_df['total']).sum() / counts_df['total'].sum()"
   ]
  },
  {
   "cell_type": "markdown",
   "metadata": {},
   "source": [
    "## Analyse Statistics of Drug Proteins"
   ]
  },
  {
   "cell_type": "code",
   "execution_count": 212,
   "metadata": {},
   "outputs": [],
   "source": [
    "# create new df\n",
    "drug_proteins = list(set(df_drug_protein['drug']))\n",
    "\n",
    "synergy_count = np.zeros((len(drug_proteins)), dtype=int)\n",
    "\n",
    "drug_protein_synergy_df = pd.DataFrame(data={\n",
    "    'drug': drug_proteins,\n",
    "    0: synergy_count.copy(),\n",
    "    1: synergy_count.copy()\n",
    "})"
   ]
  },
  {
   "cell_type": "code",
   "execution_count": 213,
   "metadata": {},
   "outputs": [
    {
     "data": {
      "text/plain": [
       "0      False\n",
       "1      False\n",
       "2      False\n",
       "3      False\n",
       "4      False\n",
       "       ...  \n",
       "759    False\n",
       "760    False\n",
       "761    False\n",
       "762    False\n",
       "763    False\n",
       "Name: drug, Length: 764, dtype: bool"
      ]
     },
     "execution_count": 213,
     "metadata": {},
     "output_type": "execute_result"
    }
   ],
   "source": [
    "drug_protein_synergy_df['drug'].str.match('DB00544')"
   ]
  },
  {
   "cell_type": "code",
   "execution_count": 214,
   "metadata": {},
   "outputs": [
    {
     "data": {
      "text/html": [
       "<div>\n",
       "<style scoped>\n",
       "    .dataframe tbody tr th:only-of-type {\n",
       "        vertical-align: middle;\n",
       "    }\n",
       "\n",
       "    .dataframe tbody tr th {\n",
       "        vertical-align: top;\n",
       "    }\n",
       "\n",
       "    .dataframe thead th {\n",
       "        text-align: right;\n",
       "    }\n",
       "</style>\n",
       "<table border=\"1\" class=\"dataframe\">\n",
       "  <thead>\n",
       "    <tr style=\"text-align: right;\">\n",
       "      <th></th>\n",
       "      <th>0</th>\n",
       "    </tr>\n",
       "  </thead>\n",
       "  <tbody>\n",
       "    <tr>\n",
       "      <th>263</th>\n",
       "      <td>0</td>\n",
       "    </tr>\n",
       "  </tbody>\n",
       "</table>\n",
       "</div>"
      ],
      "text/plain": [
       "     0\n",
       "263  0"
      ]
     },
     "execution_count": 214,
     "metadata": {},
     "output_type": "execute_result"
    }
   ],
   "source": [
    "drug_protein_synergy_df.loc[drug_protein_synergy_df['drug'].str.match('DB00544'), [0]]"
   ]
  },
  {
   "cell_type": "code",
   "execution_count": 216,
   "metadata": {},
   "outputs": [
    {
     "name": "stderr",
     "output_type": "stream",
     "text": [
      "100%|██████████| 69436/69436 [01:33<00:00, 745.19it/s]\n"
     ]
    },
    {
     "data": {
      "text/html": [
       "<div>\n",
       "<style scoped>\n",
       "    .dataframe tbody tr th:only-of-type {\n",
       "        vertical-align: middle;\n",
       "    }\n",
       "\n",
       "    .dataframe tbody tr th {\n",
       "        vertical-align: top;\n",
       "    }\n",
       "\n",
       "    .dataframe thead th {\n",
       "        text-align: right;\n",
       "    }\n",
       "</style>\n",
       "<table border=\"1\" class=\"dataframe\">\n",
       "  <thead>\n",
       "    <tr style=\"text-align: right;\">\n",
       "      <th></th>\n",
       "      <th>drug</th>\n",
       "      <th>0</th>\n",
       "      <th>1</th>\n",
       "    </tr>\n",
       "  </thead>\n",
       "  <tbody>\n",
       "    <tr>\n",
       "      <th>0</th>\n",
       "      <td>DB01667</td>\n",
       "      <td>0</td>\n",
       "      <td>0</td>\n",
       "    </tr>\n",
       "    <tr>\n",
       "      <th>1</th>\n",
       "      <td>DB01006</td>\n",
       "      <td>1118</td>\n",
       "      <td>1121</td>\n",
       "    </tr>\n",
       "    <tr>\n",
       "      <th>2</th>\n",
       "      <td>DB06228</td>\n",
       "      <td>0</td>\n",
       "      <td>1</td>\n",
       "    </tr>\n",
       "    <tr>\n",
       "      <th>3</th>\n",
       "      <td>DB01217</td>\n",
       "      <td>1291</td>\n",
       "      <td>1053</td>\n",
       "    </tr>\n",
       "    <tr>\n",
       "      <th>4</th>\n",
       "      <td>DB03796</td>\n",
       "      <td>0</td>\n",
       "      <td>1</td>\n",
       "    </tr>\n",
       "    <tr>\n",
       "      <th>...</th>\n",
       "      <td>...</td>\n",
       "      <td>...</td>\n",
       "      <td>...</td>\n",
       "    </tr>\n",
       "    <tr>\n",
       "      <th>759</th>\n",
       "      <td>DB06717</td>\n",
       "      <td>0</td>\n",
       "      <td>0</td>\n",
       "    </tr>\n",
       "    <tr>\n",
       "      <th>760</th>\n",
       "      <td>DB00308</td>\n",
       "      <td>0</td>\n",
       "      <td>1</td>\n",
       "    </tr>\n",
       "    <tr>\n",
       "      <th>761</th>\n",
       "      <td>DB01132</td>\n",
       "      <td>1</td>\n",
       "      <td>0</td>\n",
       "    </tr>\n",
       "    <tr>\n",
       "      <th>762</th>\n",
       "      <td>DB04786</td>\n",
       "      <td>1</td>\n",
       "      <td>0</td>\n",
       "    </tr>\n",
       "    <tr>\n",
       "      <th>763</th>\n",
       "      <td>DB00396</td>\n",
       "      <td>0</td>\n",
       "      <td>1</td>\n",
       "    </tr>\n",
       "  </tbody>\n",
       "</table>\n",
       "<p>764 rows × 3 columns</p>\n",
       "</div>"
      ],
      "text/plain": [
       "        drug     0     1\n",
       "0    DB01667     0     0\n",
       "1    DB01006  1118  1121\n",
       "2    DB06228     0     1\n",
       "3    DB01217  1291  1053\n",
       "4    DB03796     0     1\n",
       "..       ...   ...   ...\n",
       "759  DB06717     0     0\n",
       "760  DB00308     0     1\n",
       "761  DB01132     1     0\n",
       "762  DB04786     1     0\n",
       "763  DB00396     0     1\n",
       "\n",
       "[764 rows x 3 columns]"
      ]
     },
     "execution_count": 216,
     "metadata": {},
     "output_type": "execute_result"
    }
   ],
   "source": [
    "lookup = dict(zip(drug_protein_synergy_df['drug'], drug_protein_synergy_df.index))\n",
    "\n",
    "# count synergies for\n",
    "for i in tqdm(df_drug_combinations.index):\n",
    "    row = df_drug_combinations.iloc[i]\n",
    "    drug1 = lookup[row['drug1_db']]\n",
    "    drug2 = lookup[row['drug2_db']]\n",
    "\n",
    "    if row['synergy'] <= 0:\n",
    "        drug_protein_synergy_df.loc[drug1, [0]] += 1\n",
    "        drug_protein_synergy_df.loc[drug2, [0]] += 1\n",
    "    else:\n",
    "        drug_protein_synergy_df.loc[drug1, [1]] += 1\n",
    "        drug_protein_synergy_df.loc[drug2, [1]] += 1\n",
    "    \n",
    "drug_protein_synergy_df"
   ]
  },
  {
   "cell_type": "code",
   "execution_count": 218,
   "metadata": {},
   "outputs": [
    {
     "name": "stdout",
     "output_type": "stream",
     "text": [
      "192\n"
     ]
    },
    {
     "data": {
      "text/html": [
       "<div>\n",
       "<style scoped>\n",
       "    .dataframe tbody tr th:only-of-type {\n",
       "        vertical-align: middle;\n",
       "    }\n",
       "\n",
       "    .dataframe tbody tr th {\n",
       "        vertical-align: top;\n",
       "    }\n",
       "\n",
       "    .dataframe thead th {\n",
       "        text-align: right;\n",
       "    }\n",
       "</style>\n",
       "<table border=\"1\" class=\"dataframe\">\n",
       "  <thead>\n",
       "    <tr style=\"text-align: right;\">\n",
       "      <th></th>\n",
       "      <th>drug</th>\n",
       "      <th>0</th>\n",
       "      <th>1</th>\n",
       "    </tr>\n",
       "  </thead>\n",
       "  <tbody>\n",
       "    <tr>\n",
       "      <th>0</th>\n",
       "      <td>DB01667</td>\n",
       "      <td>0</td>\n",
       "      <td>0</td>\n",
       "    </tr>\n",
       "    <tr>\n",
       "      <th>7</th>\n",
       "      <td>DB00500</td>\n",
       "      <td>0</td>\n",
       "      <td>0</td>\n",
       "    </tr>\n",
       "    <tr>\n",
       "      <th>11</th>\n",
       "      <td>DB00812</td>\n",
       "      <td>0</td>\n",
       "      <td>0</td>\n",
       "    </tr>\n",
       "    <tr>\n",
       "      <th>15</th>\n",
       "      <td>DB00717</td>\n",
       "      <td>0</td>\n",
       "      <td>0</td>\n",
       "    </tr>\n",
       "    <tr>\n",
       "      <th>20</th>\n",
       "      <td>DB00864</td>\n",
       "      <td>0</td>\n",
       "      <td>0</td>\n",
       "    </tr>\n",
       "    <tr>\n",
       "      <th>...</th>\n",
       "      <td>...</td>\n",
       "      <td>...</td>\n",
       "      <td>...</td>\n",
       "    </tr>\n",
       "    <tr>\n",
       "      <th>747</th>\n",
       "      <td>DB00440</td>\n",
       "      <td>0</td>\n",
       "      <td>0</td>\n",
       "    </tr>\n",
       "    <tr>\n",
       "      <th>750</th>\n",
       "      <td>DB00536</td>\n",
       "      <td>0</td>\n",
       "      <td>0</td>\n",
       "    </tr>\n",
       "    <tr>\n",
       "      <th>753</th>\n",
       "      <td>DB00991</td>\n",
       "      <td>0</td>\n",
       "      <td>0</td>\n",
       "    </tr>\n",
       "    <tr>\n",
       "      <th>756</th>\n",
       "      <td>DB01186</td>\n",
       "      <td>0</td>\n",
       "      <td>0</td>\n",
       "    </tr>\n",
       "    <tr>\n",
       "      <th>759</th>\n",
       "      <td>DB06717</td>\n",
       "      <td>0</td>\n",
       "      <td>0</td>\n",
       "    </tr>\n",
       "  </tbody>\n",
       "</table>\n",
       "<p>192 rows × 3 columns</p>\n",
       "</div>"
      ],
      "text/plain": [
       "        drug  0  1\n",
       "0    DB01667  0  0\n",
       "7    DB00500  0  0\n",
       "11   DB00812  0  0\n",
       "15   DB00717  0  0\n",
       "20   DB00864  0  0\n",
       "..       ... .. ..\n",
       "747  DB00440  0  0\n",
       "750  DB00536  0  0\n",
       "753  DB00991  0  0\n",
       "756  DB01186  0  0\n",
       "759  DB06717  0  0\n",
       "\n",
       "[192 rows x 3 columns]"
      ]
     },
     "execution_count": 218,
     "metadata": {},
     "output_type": "execute_result"
    }
   ],
   "source": [
    "# remove drug proteins not being in a drug combination\n",
    "no_0s = drug_protein_synergy_df[0] == 0\n",
    "no_1s = drug_protein_synergy_df[1] == 0\n",
    "print((no_0s & no_1s).sum())\n",
    "dropped = drug_protein_synergy_df[(no_0s & no_1s)]\n",
    "drug_counts_df = drug_protein_synergy_df.drop(index=dropped.index)\n",
    "dropped"
   ]
  },
  {
   "cell_type": "code",
   "execution_count": 219,
   "metadata": {},
   "outputs": [
    {
     "data": {
      "text/html": [
       "<div>\n",
       "<style scoped>\n",
       "    .dataframe tbody tr th:only-of-type {\n",
       "        vertical-align: middle;\n",
       "    }\n",
       "\n",
       "    .dataframe tbody tr th {\n",
       "        vertical-align: top;\n",
       "    }\n",
       "\n",
       "    .dataframe thead th {\n",
       "        text-align: right;\n",
       "    }\n",
       "</style>\n",
       "<table border=\"1\" class=\"dataframe\">\n",
       "  <thead>\n",
       "    <tr style=\"text-align: right;\">\n",
       "      <th></th>\n",
       "      <th>drug</th>\n",
       "      <th>0</th>\n",
       "      <th>1</th>\n",
       "      <th>total</th>\n",
       "      <th>0_relative</th>\n",
       "      <th>1_relative</th>\n",
       "      <th>imbalance</th>\n",
       "    </tr>\n",
       "  </thead>\n",
       "  <tbody>\n",
       "    <tr>\n",
       "      <th>1</th>\n",
       "      <td>DB01006</td>\n",
       "      <td>1118</td>\n",
       "      <td>1121</td>\n",
       "      <td>2239</td>\n",
       "      <td>0.499330</td>\n",
       "      <td>0.500670</td>\n",
       "      <td>0.001340</td>\n",
       "    </tr>\n",
       "    <tr>\n",
       "      <th>2</th>\n",
       "      <td>DB06228</td>\n",
       "      <td>0</td>\n",
       "      <td>1</td>\n",
       "      <td>1</td>\n",
       "      <td>0.000000</td>\n",
       "      <td>1.000000</td>\n",
       "      <td>1.000000</td>\n",
       "    </tr>\n",
       "    <tr>\n",
       "      <th>3</th>\n",
       "      <td>DB01217</td>\n",
       "      <td>1291</td>\n",
       "      <td>1053</td>\n",
       "      <td>2344</td>\n",
       "      <td>0.550768</td>\n",
       "      <td>0.449232</td>\n",
       "      <td>0.101536</td>\n",
       "    </tr>\n",
       "    <tr>\n",
       "      <th>4</th>\n",
       "      <td>DB03796</td>\n",
       "      <td>0</td>\n",
       "      <td>1</td>\n",
       "      <td>1</td>\n",
       "      <td>0.000000</td>\n",
       "      <td>1.000000</td>\n",
       "      <td>1.000000</td>\n",
       "    </tr>\n",
       "    <tr>\n",
       "      <th>5</th>\n",
       "      <td>DB00790</td>\n",
       "      <td>0</td>\n",
       "      <td>1</td>\n",
       "      <td>1</td>\n",
       "      <td>0.000000</td>\n",
       "      <td>1.000000</td>\n",
       "      <td>1.000000</td>\n",
       "    </tr>\n",
       "    <tr>\n",
       "      <th>...</th>\n",
       "      <td>...</td>\n",
       "      <td>...</td>\n",
       "      <td>...</td>\n",
       "      <td>...</td>\n",
       "      <td>...</td>\n",
       "      <td>...</td>\n",
       "      <td>...</td>\n",
       "    </tr>\n",
       "    <tr>\n",
       "      <th>758</th>\n",
       "      <td>DB08899</td>\n",
       "      <td>0</td>\n",
       "      <td>1</td>\n",
       "      <td>1</td>\n",
       "      <td>0.000000</td>\n",
       "      <td>1.000000</td>\n",
       "      <td>1.000000</td>\n",
       "    </tr>\n",
       "    <tr>\n",
       "      <th>760</th>\n",
       "      <td>DB00308</td>\n",
       "      <td>0</td>\n",
       "      <td>1</td>\n",
       "      <td>1</td>\n",
       "      <td>0.000000</td>\n",
       "      <td>1.000000</td>\n",
       "      <td>1.000000</td>\n",
       "    </tr>\n",
       "    <tr>\n",
       "      <th>761</th>\n",
       "      <td>DB01132</td>\n",
       "      <td>1</td>\n",
       "      <td>0</td>\n",
       "      <td>1</td>\n",
       "      <td>1.000000</td>\n",
       "      <td>0.000000</td>\n",
       "      <td>1.000000</td>\n",
       "    </tr>\n",
       "    <tr>\n",
       "      <th>762</th>\n",
       "      <td>DB04786</td>\n",
       "      <td>1</td>\n",
       "      <td>0</td>\n",
       "      <td>1</td>\n",
       "      <td>1.000000</td>\n",
       "      <td>0.000000</td>\n",
       "      <td>1.000000</td>\n",
       "    </tr>\n",
       "    <tr>\n",
       "      <th>763</th>\n",
       "      <td>DB00396</td>\n",
       "      <td>0</td>\n",
       "      <td>1</td>\n",
       "      <td>1</td>\n",
       "      <td>0.000000</td>\n",
       "      <td>1.000000</td>\n",
       "      <td>1.000000</td>\n",
       "    </tr>\n",
       "  </tbody>\n",
       "</table>\n",
       "<p>572 rows × 7 columns</p>\n",
       "</div>"
      ],
      "text/plain": [
       "        drug     0     1  total  0_relative  1_relative  imbalance\n",
       "1    DB01006  1118  1121   2239    0.499330    0.500670   0.001340\n",
       "2    DB06228     0     1      1    0.000000    1.000000   1.000000\n",
       "3    DB01217  1291  1053   2344    0.550768    0.449232   0.101536\n",
       "4    DB03796     0     1      1    0.000000    1.000000   1.000000\n",
       "5    DB00790     0     1      1    0.000000    1.000000   1.000000\n",
       "..       ...   ...   ...    ...         ...         ...        ...\n",
       "758  DB08899     0     1      1    0.000000    1.000000   1.000000\n",
       "760  DB00308     0     1      1    0.000000    1.000000   1.000000\n",
       "761  DB01132     1     0      1    1.000000    0.000000   1.000000\n",
       "762  DB04786     1     0      1    1.000000    0.000000   1.000000\n",
       "763  DB00396     0     1      1    0.000000    1.000000   1.000000\n",
       "\n",
       "[572 rows x 7 columns]"
      ]
     },
     "execution_count": 219,
     "metadata": {},
     "output_type": "execute_result"
    }
   ],
   "source": [
    "drug_counts_df['total'] = drug_counts_df[0] + drug_counts_df[1]\n",
    "drug_counts_df['0_relative'] = drug_counts_df[0] / drug_counts_df['total']\n",
    "drug_counts_df['1_relative'] = drug_counts_df[1] / drug_counts_df['total']\n",
    "drug_counts_df['imbalance'] = abs(0.5 - drug_counts_df['0_relative']) * 2\n",
    "drug_counts_df"
   ]
  },
  {
   "cell_type": "code",
   "execution_count": 220,
   "metadata": {},
   "outputs": [
    {
     "data": {
      "text/html": [
       "<div>\n",
       "<style scoped>\n",
       "    .dataframe tbody tr th:only-of-type {\n",
       "        vertical-align: middle;\n",
       "    }\n",
       "\n",
       "    .dataframe tbody tr th {\n",
       "        vertical-align: top;\n",
       "    }\n",
       "\n",
       "    .dataframe thead th {\n",
       "        text-align: right;\n",
       "    }\n",
       "</style>\n",
       "<table border=\"1\" class=\"dataframe\">\n",
       "  <thead>\n",
       "    <tr style=\"text-align: right;\">\n",
       "      <th></th>\n",
       "      <th>drug</th>\n",
       "      <th>0</th>\n",
       "      <th>1</th>\n",
       "      <th>total</th>\n",
       "      <th>0_relative</th>\n",
       "      <th>1_relative</th>\n",
       "      <th>imbalance</th>\n",
       "    </tr>\n",
       "  </thead>\n",
       "  <tbody>\n",
       "    <tr>\n",
       "      <th>378</th>\n",
       "      <td>DB00495</td>\n",
       "      <td>0</td>\n",
       "      <td>1</td>\n",
       "      <td>1</td>\n",
       "      <td>0.000000</td>\n",
       "      <td>1.000000</td>\n",
       "      <td>1.000000</td>\n",
       "    </tr>\n",
       "    <tr>\n",
       "      <th>497</th>\n",
       "      <td>DB00692</td>\n",
       "      <td>0</td>\n",
       "      <td>1</td>\n",
       "      <td>1</td>\n",
       "      <td>0.000000</td>\n",
       "      <td>1.000000</td>\n",
       "      <td>1.000000</td>\n",
       "    </tr>\n",
       "    <tr>\n",
       "      <th>495</th>\n",
       "      <td>DB00876</td>\n",
       "      <td>0</td>\n",
       "      <td>1</td>\n",
       "      <td>1</td>\n",
       "      <td>0.000000</td>\n",
       "      <td>1.000000</td>\n",
       "      <td>1.000000</td>\n",
       "    </tr>\n",
       "    <tr>\n",
       "      <th>494</th>\n",
       "      <td>DB00278</td>\n",
       "      <td>0</td>\n",
       "      <td>1</td>\n",
       "      <td>1</td>\n",
       "      <td>0.000000</td>\n",
       "      <td>1.000000</td>\n",
       "      <td>1.000000</td>\n",
       "    </tr>\n",
       "    <tr>\n",
       "      <th>493</th>\n",
       "      <td>DB04835</td>\n",
       "      <td>0</td>\n",
       "      <td>1</td>\n",
       "      <td>1</td>\n",
       "      <td>0.000000</td>\n",
       "      <td>1.000000</td>\n",
       "      <td>1.000000</td>\n",
       "    </tr>\n",
       "    <tr>\n",
       "      <th>...</th>\n",
       "      <td>...</td>\n",
       "      <td>...</td>\n",
       "      <td>...</td>\n",
       "      <td>...</td>\n",
       "      <td>...</td>\n",
       "      <td>...</td>\n",
       "      <td>...</td>\n",
       "    </tr>\n",
       "    <tr>\n",
       "      <th>580</th>\n",
       "      <td>DB00675</td>\n",
       "      <td>1157</td>\n",
       "      <td>1104</td>\n",
       "      <td>2261</td>\n",
       "      <td>0.511720</td>\n",
       "      <td>0.488280</td>\n",
       "      <td>0.023441</td>\n",
       "    </tr>\n",
       "    <tr>\n",
       "      <th>675</th>\n",
       "      <td>DB00553</td>\n",
       "      <td>1115</td>\n",
       "      <td>1129</td>\n",
       "      <td>2244</td>\n",
       "      <td>0.496881</td>\n",
       "      <td>0.503119</td>\n",
       "      <td>0.006239</td>\n",
       "    </tr>\n",
       "    <tr>\n",
       "      <th>538</th>\n",
       "      <td>DB08828</td>\n",
       "      <td>1314</td>\n",
       "      <td>1327</td>\n",
       "      <td>2641</td>\n",
       "      <td>0.497539</td>\n",
       "      <td>0.502461</td>\n",
       "      <td>0.004922</td>\n",
       "    </tr>\n",
       "    <tr>\n",
       "      <th>369</th>\n",
       "      <td>DB01229</td>\n",
       "      <td>1199</td>\n",
       "      <td>1191</td>\n",
       "      <td>2390</td>\n",
       "      <td>0.501674</td>\n",
       "      <td>0.498326</td>\n",
       "      <td>0.003347</td>\n",
       "    </tr>\n",
       "    <tr>\n",
       "      <th>1</th>\n",
       "      <td>DB01006</td>\n",
       "      <td>1118</td>\n",
       "      <td>1121</td>\n",
       "      <td>2239</td>\n",
       "      <td>0.499330</td>\n",
       "      <td>0.500670</td>\n",
       "      <td>0.001340</td>\n",
       "    </tr>\n",
       "  </tbody>\n",
       "</table>\n",
       "<p>572 rows × 7 columns</p>\n",
       "</div>"
      ],
      "text/plain": [
       "        drug     0     1  total  0_relative  1_relative  imbalance\n",
       "378  DB00495     0     1      1    0.000000    1.000000   1.000000\n",
       "497  DB00692     0     1      1    0.000000    1.000000   1.000000\n",
       "495  DB00876     0     1      1    0.000000    1.000000   1.000000\n",
       "494  DB00278     0     1      1    0.000000    1.000000   1.000000\n",
       "493  DB04835     0     1      1    0.000000    1.000000   1.000000\n",
       "..       ...   ...   ...    ...         ...         ...        ...\n",
       "580  DB00675  1157  1104   2261    0.511720    0.488280   0.023441\n",
       "675  DB00553  1115  1129   2244    0.496881    0.503119   0.006239\n",
       "538  DB08828  1314  1327   2641    0.497539    0.502461   0.004922\n",
       "369  DB01229  1199  1191   2390    0.501674    0.498326   0.003347\n",
       "1    DB01006  1118  1121   2239    0.499330    0.500670   0.001340\n",
       "\n",
       "[572 rows x 7 columns]"
      ]
     },
     "execution_count": 220,
     "metadata": {},
     "output_type": "execute_result"
    }
   ],
   "source": [
    "drug_counts_df.sort_values(by='imbalance', ascending=False)"
   ]
  },
  {
   "cell_type": "code",
   "execution_count": 222,
   "metadata": {},
   "outputs": [
    {
     "data": {
      "application/vnd.plotly.v1+json": {
       "config": {
        "plotlyServerURL": "https://plot.ly"
       },
       "data": [
        {
         "alignmentgroup": "True",
         "hovertemplate": "drug=%{x}<br>imbalance=%{y}<extra></extra>",
         "legendgroup": "",
         "marker": {
          "color": "#636efa",
          "pattern": {
           "shape": ""
          }
         },
         "name": "",
         "offsetgroup": "",
         "orientation": "v",
         "showlegend": false,
         "textposition": "auto",
         "type": "bar",
         "x": [
          "DB00495",
          "DB00692",
          "DB00876",
          "DB00278",
          "DB04835",
          "DB00227",
          "DB00337",
          "DB00255",
          "DB00208",
          "DB00669",
          "DB00555",
          "DB00203",
          "DB01012",
          "DB01366",
          "DB00170",
          "DB01120",
          "DB00810",
          "DB00999",
          "DB00478",
          "DB00524",
          "DB04149",
          "DB00341",
          "DB01373",
          "DB01039",
          "DB06817",
          "DB00862",
          "DB00467",
          "DB01067",
          "DB00665",
          "DB00814",
          "DB01014",
          "DB00977",
          "DB00222",
          "DB01059",
          "DB00136",
          "DB01050",
          "DB05424",
          "DB00831",
          "DB00945",
          "DB06694",
          "DB01165",
          "DB04725",
          "DB01412",
          "DB01097",
          "DB00091",
          "DB00730",
          "DB01003",
          "DB00949",
          "DB00600",
          "DB01094",
          "DB00966",
          "DB00284",
          "DB01157",
          "DB08905",
          "DB00230",
          "DB04365",
          "DB01213",
          "DB00260",
          "DB01113",
          "DB01178",
          "DB00179",
          "DB01941",
          "DB00605",
          "DB00180",
          "DB00706",
          "DB00322",
          "DB03424",
          "DB00483",
          "DB00594",
          "DB08399",
          "DB01095",
          "DB01611",
          "DB02262",
          "DB01036",
          "DB02932",
          "DB07232",
          "DB06228",
          "DB00350",
          "DB08846",
          "DB00697",
          "DB02656",
          "DB01114",
          "DB01166",
          "DB01065",
          "DB04552",
          "DB01208",
          "DB00213",
          "DB06852",
          "DB00603",
          "DB00752",
          "DB00989",
          "DB00925",
          "DB00872",
          "DB00776",
          "DB00908",
          "DB00194",
          "DB00918",
          "DB00499",
          "DB06616",
          "DB04115",
          "DB02375",
          "DB00487",
          "DB07348",
          "DB01708",
          "DB00934",
          "DB00848",
          "DB06710",
          "DB00980",
          "DB00841",
          "DB00591",
          "DB01045",
          "DB00701",
          "DB00572",
          "DB00343",
          "DB01337",
          "DB04942",
          "DB00673",
          "DB01339",
          "DB05076",
          "DB00889",
          "DB01162",
          "DB01021",
          "DB00615",
          "DB01220",
          "DB04106",
          "DB00915",
          "DB00953",
          "DB06594",
          "DB00363",
          "DB00543",
          "DB00332",
          "DB04905",
          "DB00205",
          "DB08079",
          "DB00623",
          "DB00741",
          "DB00215",
          "DB00140",
          "DB06743",
          "DB00200",
          "DB01656",
          "DB04576",
          "DB00249",
          "DB07352",
          "DB00952",
          "DB02255",
          "DB01179",
          "DB00424",
          "DB00917",
          "DB03467",
          "DB00799",
          "DB00924",
          "DB03285",
          "DB08916",
          "DB00857",
          "DB00984",
          "DB01108",
          "DB01420",
          "DB00734",
          "DB00749",
          "DB01013",
          "DB06292",
          "DB00292",
          "DB01645",
          "DB00935",
          "DB00731",
          "DB07340",
          "DB04786",
          "DB01132",
          "DB00308",
          "DB08899",
          "DB02789",
          "DB00655",
          "DB02740",
          "DB00316",
          "DB01064",
          "DB01395",
          "DB02115",
          "DB00323",
          "DB08568",
          "DB00635",
          "DB01144",
          "DB01128",
          "DB00700",
          "DB00922",
          "DB00640",
          "DB00104",
          "DB00914",
          "DB00624",
          "DB00445",
          "DB06207",
          "DB04960",
          "DB00768",
          "DB07995",
          "DB00867",
          "DB01043",
          "DB00588",
          "DB00621",
          "DB00590",
          "DB01409",
          "DB01025",
          "DB06777",
          "DB04573",
          "DB04743",
          "DB00115",
          "DB00432",
          "DB00710",
          "DB01177",
          "DB00235",
          "DB03044",
          "DB01411",
          "DB04599",
          "DB01137",
          "DB00346",
          "DB01242",
          "DB00204",
          "DB01235",
          "DB00890",
          "DB00178",
          "DB00128",
          "DB04331",
          "DB00261",
          "DB00811",
          "DB01001",
          "DB01007",
          "DB00978",
          "DB00818",
          "DB01024",
          "DB08059",
          "DB00462",
          "DB00459",
          "DB04879",
          "DB00704",
          "DB00388",
          "DB01019",
          "DB00674",
          "DB00443",
          "DB00196",
          "DB00334",
          "DB00988",
          "DB00737",
          "DB01099",
          "DB00651",
          "DB00514",
          "DB00542",
          "DB01156",
          "DB01136",
          "DB00195",
          "DB07810",
          "DB00836",
          "DB00575",
          "DB00770",
          "DB00368",
          "DB01380",
          "DB01037",
          "DB00210",
          "DB00631",
          "DB01195",
          "DB02709",
          "DB00357",
          "DB01127",
          "DB00900",
          "DB00396",
          "DB02567",
          "DB08356",
          "DB00476",
          "DB01101",
          "DB00302",
          "DB01079",
          "DB01110",
          "DB06733",
          "DB00402",
          "DB06218",
          "DB00242",
          "DB08932",
          "DB04297",
          "DB06209",
          "DB08756",
          "DB00904",
          "DB01260",
          "DB01047",
          "DB00975",
          "DB00176",
          "DB00880",
          "DB06605",
          "DB00869",
          "DB00370",
          "DB07931",
          "DB07615",
          "DB00201",
          "DB01954",
          "DB01083",
          "DB04864",
          "DB00391",
          "DB01262",
          "DB00293",
          "DB00807",
          "DB04946",
          "DB00682",
          "DB00790",
          "DB06335",
          "DB08167",
          "DB06155",
          "DB00586",
          "DB00973",
          "DB04841",
          "DB00582",
          "DB01092",
          "DB00367",
          "DB00620",
          "DB00537",
          "DB02097",
          "DB01205",
          "DB00668",
          "DB02701",
          "DB01196",
          "DB06216",
          "DB04855",
          "DB01009",
          "DB06809",
          "DB05465",
          "DB06999",
          "DB05448",
          "DB00878",
          "DB00465",
          "DB01392",
          "DB05013",
          "DB01280",
          "DB00783",
          "DB00661",
          "DB00550",
          "DB00197",
          "DB00636",
          "DB01261",
          "DB01074",
          "DB00584",
          "DB06148",
          "DB04898",
          "DB03566",
          "DB01044",
          "DB00712",
          "DB00762",
          "DB02733",
          "DB00218",
          "DB00641",
          "DB00656",
          "DB07594",
          "DB00759",
          "DB01933",
          "DB08800",
          "DB01182",
          "DB00738",
          "DB06702",
          "DB01357",
          "DB00972",
          "DB03880",
          "DB00732",
          "DB01017",
          "DB00491",
          "DB08820",
          "DB00338",
          "DB01173",
          "DB00502",
          "DB00576",
          "DB00513",
          "DB00905",
          "DB00982",
          "DB07941",
          "DB00593",
          "DB01599",
          "DB08896",
          "DB01273",
          "DB06725",
          "DB00277",
          "DB00820",
          "DB00328",
          "DB07933",
          "DB04881",
          "DB08860",
          "DB00315",
          "DB08878",
          "DB00382",
          "DB01241",
          "DB00423",
          "DB06288",
          "DB03849",
          "DB00446",
          "DB00412",
          "DB00552",
          "DB00747",
          "DB00995",
          "DB03010",
          "DB00307",
          "DB00287",
          "DB01062",
          "DB00257",
          "DB06287",
          "DB04258",
          "DB04873",
          "DB01202",
          "DB00434",
          "DB00390",
          "DB00887",
          "DB00927",
          "DB00601",
          "DB00728",
          "DB00993",
          "DB02546",
          "DB00834",
          "DB00744",
          "DB07423",
          "DB04953",
          "DB00794",
          "DB00283",
          "DB08162",
          "DB01034",
          "DB00778",
          "DB01118",
          "DB00145",
          "DB00627",
          "DB00996",
          "DB01222",
          "DB08943",
          "DB00270",
          "DB08313",
          "DB01184",
          "DB01586",
          "DB00285",
          "DB04839",
          "DB00951",
          "DB00535",
          "DB00246",
          "DB04216",
          "DB00455",
          "DB06729",
          "DB00920",
          "DB00275",
          "DB00558",
          "DB00259",
          "DB00630",
          "DB00413",
          "DB03841",
          "DB05381",
          "DB00968",
          "DB01218",
          "DB03796",
          "DB00788",
          "DB04716",
          "DB00780",
          "DB00695",
          "DB00565",
          "DB00884",
          "DB01075",
          "DB00198",
          "DB04861",
          "DB01367",
          "DB00612",
          "DB00808",
          "DB00554",
          "DB01783",
          "DB00795",
          "DB07715",
          "DB04751",
          "DB01333",
          "DB08882",
          "DB07795",
          "DB00609",
          "DB00469",
          "DB00959",
          "DB00533",
          "DB01275",
          "DB00912",
          "DB00715",
          "DB00451",
          "DB04849",
          "DB00800",
          "DB04844",
          "DB00549",
          "DB06802",
          "DB00489",
          "DB00943",
          "DB00740",
          "DB00822",
          "DB01238",
          "DB00688",
          "DB00433",
          "DB01394",
          "DB00882",
          "DB08901",
          "DB09028",
          "DB01033",
          "DB03994",
          "DB00380",
          "DB08142",
          "DB01206",
          "DB00480",
          "DB00539",
          "DB00358",
          "DB01590",
          "DB00643",
          "DB00987",
          "DB01030",
          "DB04690",
          "DB00290",
          "DB00928",
          "DB01234",
          "DB06772",
          "DB03496",
          "DB00608",
          "DB00570",
          "DB00773",
          "DB00361",
          "DB00860",
          "DB08052",
          "DB07101",
          "DB00877",
          "DB00262",
          "DB00642",
          "DB02424",
          "DB01073",
          "DB01103",
          "DB00317",
          "DB00541",
          "DB00444",
          "DB00351",
          "DB00457",
          "DB08868",
          "DB00694",
          "DB08881",
          "DB00851",
          "DB00481",
          "DB00399",
          "DB00437",
          "DB00544",
          "DB08877",
          "DB00331",
          "DB04845",
          "DB04868",
          "DB01005",
          "DB06589",
          "DB00563",
          "DB01169",
          "DB05294",
          "DB00619",
          "DB00441",
          "DB08865",
          "DB01204",
          "DB00755",
          "DB01243",
          "DB08597",
          "DB01217",
          "DB00997",
          "DB00947",
          "DB00724",
          "DB00188",
          "DB01248",
          "DB05812",
          "DB00648",
          "DB00530",
          "DB00482",
          "DB01259",
          "DB06813",
          "DB01268",
          "DB01254",
          "DB01041",
          "DB00398",
          "DB01143",
          "DB00675",
          "DB00553",
          "DB08828",
          "DB01229",
          "DB01006"
         ],
         "xaxis": "x",
         "y": [
          1,
          1,
          1,
          1,
          1,
          1,
          1,
          1,
          1,
          1,
          1,
          1,
          1,
          1,
          1,
          1,
          1,
          1,
          1,
          1,
          1,
          1,
          1,
          1,
          1,
          1,
          1,
          1,
          1,
          1,
          1,
          1,
          1,
          1,
          1,
          1,
          1,
          1,
          1,
          1,
          1,
          1,
          1,
          1,
          1,
          1,
          1,
          1,
          1,
          1,
          1,
          1,
          1,
          1,
          1,
          1,
          1,
          1,
          1,
          1,
          1,
          1,
          1,
          1,
          1,
          1,
          1,
          1,
          1,
          1,
          1,
          1,
          1,
          1,
          1,
          1,
          1,
          1,
          1,
          1,
          1,
          1,
          1,
          1,
          1,
          1,
          1,
          1,
          1,
          1,
          1,
          1,
          1,
          1,
          1,
          1,
          1,
          1,
          1,
          1,
          1,
          1,
          1,
          1,
          1,
          1,
          1,
          1,
          1,
          1,
          1,
          1,
          1,
          1,
          1,
          1,
          1,
          1,
          1,
          1,
          1,
          1,
          1,
          1,
          1,
          1,
          1,
          1,
          1,
          1,
          1,
          1,
          1,
          1,
          1,
          1,
          1,
          1,
          1,
          1,
          1,
          1,
          1,
          1,
          1,
          1,
          1,
          1,
          1,
          1,
          1,
          1,
          1,
          1,
          1,
          1,
          1,
          1,
          1,
          1,
          1,
          1,
          1,
          1,
          1,
          1,
          1,
          1,
          1,
          1,
          1,
          1,
          1,
          1,
          1,
          1,
          1,
          1,
          1,
          1,
          1,
          1,
          1,
          1,
          1,
          1,
          1,
          1,
          1,
          1,
          1,
          1,
          1,
          1,
          1,
          1,
          1,
          1,
          1,
          1,
          1,
          1,
          1,
          1,
          1,
          1,
          1,
          1,
          1,
          1,
          1,
          1,
          1,
          1,
          1,
          1,
          1,
          1,
          1,
          1,
          1,
          1,
          1,
          1,
          1,
          1,
          1,
          1,
          1,
          1,
          1,
          1,
          1,
          1,
          1,
          1,
          1,
          1,
          1,
          1,
          1,
          1,
          1,
          1,
          1,
          1,
          1,
          1,
          1,
          1,
          1,
          1,
          1,
          1,
          1,
          1,
          1,
          1,
          1,
          1,
          1,
          1,
          1,
          1,
          1,
          1,
          1,
          1,
          1,
          1,
          1,
          1,
          1,
          1,
          1,
          1,
          1,
          1,
          1,
          1,
          1,
          1,
          1,
          1,
          1,
          1,
          1,
          1,
          1,
          1,
          1,
          1,
          1,
          1,
          1,
          1,
          1,
          1,
          1,
          1,
          1,
          1,
          1,
          1,
          1,
          1,
          1,
          1,
          1,
          1,
          1,
          1,
          1,
          1,
          1,
          1,
          1,
          1,
          1,
          1,
          1,
          1,
          1,
          1,
          1,
          1,
          1,
          1,
          1,
          1,
          1,
          1,
          1,
          1,
          1,
          1,
          1,
          1,
          1,
          1,
          1,
          1,
          1,
          1,
          1,
          1,
          1,
          1,
          1,
          1,
          1,
          1,
          1,
          1,
          1,
          1,
          1,
          1,
          1,
          1,
          1,
          1,
          1,
          1,
          1,
          1,
          1,
          1,
          1,
          1,
          1,
          1,
          1,
          1,
          1,
          1,
          1,
          1,
          1,
          1,
          1,
          1,
          1,
          1,
          1,
          1,
          1,
          1,
          1,
          1,
          1,
          1,
          1,
          1,
          1,
          1,
          1,
          1,
          1,
          1,
          1,
          1,
          1,
          1,
          1,
          1,
          1,
          1,
          1,
          1,
          1,
          1,
          1,
          1,
          1,
          1,
          1,
          1,
          1,
          1,
          1,
          1,
          1,
          1,
          1,
          1,
          1,
          1,
          1,
          1,
          1,
          1,
          1,
          1,
          1,
          1,
          1,
          1,
          1,
          1,
          1,
          1,
          1,
          1,
          1,
          1,
          1,
          1,
          1,
          1,
          1,
          1,
          1,
          1,
          1,
          1,
          1,
          1,
          1,
          1,
          1,
          1,
          1,
          1,
          1,
          1,
          1,
          1,
          1,
          1,
          1,
          1,
          1,
          1,
          1,
          1,
          1,
          1,
          1,
          1,
          1,
          1,
          0.8,
          0.75,
          0.75,
          0.75,
          0.75,
          0.75,
          0.6923076923076923,
          0.625,
          0.6218598501542529,
          0.6,
          0.5931063472047078,
          0.5714285714285714,
          0.5326315789473683,
          0.5060898782024359,
          0.5,
          0.5,
          0.5,
          0.5,
          0.4957759004001778,
          0.48344912137311,
          0.4285714285714286,
          0.4269213682807642,
          0.4179939733103746,
          0.40909090909090906,
          0.4036624203821656,
          0.3913043478260869,
          0.375,
          0.3669724770642202,
          0.34782608695652173,
          0.33944954128440363,
          0.33333333333333337,
          0.33333333333333337,
          0.33333333333333337,
          0.33333333333333326,
          0.32534398579671553,
          0.3142134120624209,
          0.30681818181818177,
          0.2817777777777777,
          0.2801418439716312,
          0.2749269920734252,
          0.2727272727272727,
          0.26378286683630203,
          0.26072329688814133,
          0.25,
          0.25,
          0.2457627118644068,
          0.2333965844402277,
          0.23329129886506927,
          0.22339622641509438,
          0.22286220646876376,
          0.2140969162995594,
          0.20924764890282121,
          0.1928084314941103,
          0.19266055045871555,
          0.18841870824053453,
          0.18787878787878787,
          0.18101153504880219,
          0.17505809450038734,
          0.16346955796497076,
          0.16168717047451664,
          0.15227272727272734,
          0.14859437751004012,
          0.14678899082568808,
          0.14008411517308317,
          0.13922979263647906,
          0.13587921847246887,
          0.125,
          0.125,
          0.1015358361774743,
          0.08547008547008539,
          0.07578397212543564,
          0.07487815684537003,
          0.0676459219172787,
          0.06227436823104693,
          0.05021080873898054,
          0.044736842105263186,
          0.043891733723482096,
          0.04259094942324759,
          0.03902798232695137,
          0.03868385949310804,
          0.03428154631655722,
          0.0332850940665701,
          0.030085316569375853,
          0.02752293577981657,
          0.02538975501113583,
          0.0234409553295003,
          0.0062388591800356386,
          0.004922377887163987,
          0.0033472803347280866,
          0.0013398838767306742
         ],
         "yaxis": "y"
        }
       ],
       "layout": {
        "barmode": "relative",
        "legend": {
         "tracegroupgap": 0
        },
        "margin": {
         "t": 60
        },
        "template": {
         "data": {
          "bar": [
           {
            "error_x": {
             "color": "#2a3f5f"
            },
            "error_y": {
             "color": "#2a3f5f"
            },
            "marker": {
             "line": {
              "color": "#E5ECF6",
              "width": 0.5
             },
             "pattern": {
              "fillmode": "overlay",
              "size": 10,
              "solidity": 0.2
             }
            },
            "type": "bar"
           }
          ],
          "barpolar": [
           {
            "marker": {
             "line": {
              "color": "#E5ECF6",
              "width": 0.5
             },
             "pattern": {
              "fillmode": "overlay",
              "size": 10,
              "solidity": 0.2
             }
            },
            "type": "barpolar"
           }
          ],
          "carpet": [
           {
            "aaxis": {
             "endlinecolor": "#2a3f5f",
             "gridcolor": "white",
             "linecolor": "white",
             "minorgridcolor": "white",
             "startlinecolor": "#2a3f5f"
            },
            "baxis": {
             "endlinecolor": "#2a3f5f",
             "gridcolor": "white",
             "linecolor": "white",
             "minorgridcolor": "white",
             "startlinecolor": "#2a3f5f"
            },
            "type": "carpet"
           }
          ],
          "choropleth": [
           {
            "colorbar": {
             "outlinewidth": 0,
             "ticks": ""
            },
            "type": "choropleth"
           }
          ],
          "contour": [
           {
            "colorbar": {
             "outlinewidth": 0,
             "ticks": ""
            },
            "colorscale": [
             [
              0,
              "#0d0887"
             ],
             [
              0.1111111111111111,
              "#46039f"
             ],
             [
              0.2222222222222222,
              "#7201a8"
             ],
             [
              0.3333333333333333,
              "#9c179e"
             ],
             [
              0.4444444444444444,
              "#bd3786"
             ],
             [
              0.5555555555555556,
              "#d8576b"
             ],
             [
              0.6666666666666666,
              "#ed7953"
             ],
             [
              0.7777777777777778,
              "#fb9f3a"
             ],
             [
              0.8888888888888888,
              "#fdca26"
             ],
             [
              1,
              "#f0f921"
             ]
            ],
            "type": "contour"
           }
          ],
          "contourcarpet": [
           {
            "colorbar": {
             "outlinewidth": 0,
             "ticks": ""
            },
            "type": "contourcarpet"
           }
          ],
          "heatmap": [
           {
            "colorbar": {
             "outlinewidth": 0,
             "ticks": ""
            },
            "colorscale": [
             [
              0,
              "#0d0887"
             ],
             [
              0.1111111111111111,
              "#46039f"
             ],
             [
              0.2222222222222222,
              "#7201a8"
             ],
             [
              0.3333333333333333,
              "#9c179e"
             ],
             [
              0.4444444444444444,
              "#bd3786"
             ],
             [
              0.5555555555555556,
              "#d8576b"
             ],
             [
              0.6666666666666666,
              "#ed7953"
             ],
             [
              0.7777777777777778,
              "#fb9f3a"
             ],
             [
              0.8888888888888888,
              "#fdca26"
             ],
             [
              1,
              "#f0f921"
             ]
            ],
            "type": "heatmap"
           }
          ],
          "heatmapgl": [
           {
            "colorbar": {
             "outlinewidth": 0,
             "ticks": ""
            },
            "colorscale": [
             [
              0,
              "#0d0887"
             ],
             [
              0.1111111111111111,
              "#46039f"
             ],
             [
              0.2222222222222222,
              "#7201a8"
             ],
             [
              0.3333333333333333,
              "#9c179e"
             ],
             [
              0.4444444444444444,
              "#bd3786"
             ],
             [
              0.5555555555555556,
              "#d8576b"
             ],
             [
              0.6666666666666666,
              "#ed7953"
             ],
             [
              0.7777777777777778,
              "#fb9f3a"
             ],
             [
              0.8888888888888888,
              "#fdca26"
             ],
             [
              1,
              "#f0f921"
             ]
            ],
            "type": "heatmapgl"
           }
          ],
          "histogram": [
           {
            "marker": {
             "pattern": {
              "fillmode": "overlay",
              "size": 10,
              "solidity": 0.2
             }
            },
            "type": "histogram"
           }
          ],
          "histogram2d": [
           {
            "colorbar": {
             "outlinewidth": 0,
             "ticks": ""
            },
            "colorscale": [
             [
              0,
              "#0d0887"
             ],
             [
              0.1111111111111111,
              "#46039f"
             ],
             [
              0.2222222222222222,
              "#7201a8"
             ],
             [
              0.3333333333333333,
              "#9c179e"
             ],
             [
              0.4444444444444444,
              "#bd3786"
             ],
             [
              0.5555555555555556,
              "#d8576b"
             ],
             [
              0.6666666666666666,
              "#ed7953"
             ],
             [
              0.7777777777777778,
              "#fb9f3a"
             ],
             [
              0.8888888888888888,
              "#fdca26"
             ],
             [
              1,
              "#f0f921"
             ]
            ],
            "type": "histogram2d"
           }
          ],
          "histogram2dcontour": [
           {
            "colorbar": {
             "outlinewidth": 0,
             "ticks": ""
            },
            "colorscale": [
             [
              0,
              "#0d0887"
             ],
             [
              0.1111111111111111,
              "#46039f"
             ],
             [
              0.2222222222222222,
              "#7201a8"
             ],
             [
              0.3333333333333333,
              "#9c179e"
             ],
             [
              0.4444444444444444,
              "#bd3786"
             ],
             [
              0.5555555555555556,
              "#d8576b"
             ],
             [
              0.6666666666666666,
              "#ed7953"
             ],
             [
              0.7777777777777778,
              "#fb9f3a"
             ],
             [
              0.8888888888888888,
              "#fdca26"
             ],
             [
              1,
              "#f0f921"
             ]
            ],
            "type": "histogram2dcontour"
           }
          ],
          "mesh3d": [
           {
            "colorbar": {
             "outlinewidth": 0,
             "ticks": ""
            },
            "type": "mesh3d"
           }
          ],
          "parcoords": [
           {
            "line": {
             "colorbar": {
              "outlinewidth": 0,
              "ticks": ""
             }
            },
            "type": "parcoords"
           }
          ],
          "pie": [
           {
            "automargin": true,
            "type": "pie"
           }
          ],
          "scatter": [
           {
            "fillpattern": {
             "fillmode": "overlay",
             "size": 10,
             "solidity": 0.2
            },
            "type": "scatter"
           }
          ],
          "scatter3d": [
           {
            "line": {
             "colorbar": {
              "outlinewidth": 0,
              "ticks": ""
             }
            },
            "marker": {
             "colorbar": {
              "outlinewidth": 0,
              "ticks": ""
             }
            },
            "type": "scatter3d"
           }
          ],
          "scattercarpet": [
           {
            "marker": {
             "colorbar": {
              "outlinewidth": 0,
              "ticks": ""
             }
            },
            "type": "scattercarpet"
           }
          ],
          "scattergeo": [
           {
            "marker": {
             "colorbar": {
              "outlinewidth": 0,
              "ticks": ""
             }
            },
            "type": "scattergeo"
           }
          ],
          "scattergl": [
           {
            "marker": {
             "colorbar": {
              "outlinewidth": 0,
              "ticks": ""
             }
            },
            "type": "scattergl"
           }
          ],
          "scattermapbox": [
           {
            "marker": {
             "colorbar": {
              "outlinewidth": 0,
              "ticks": ""
             }
            },
            "type": "scattermapbox"
           }
          ],
          "scatterpolar": [
           {
            "marker": {
             "colorbar": {
              "outlinewidth": 0,
              "ticks": ""
             }
            },
            "type": "scatterpolar"
           }
          ],
          "scatterpolargl": [
           {
            "marker": {
             "colorbar": {
              "outlinewidth": 0,
              "ticks": ""
             }
            },
            "type": "scatterpolargl"
           }
          ],
          "scatterternary": [
           {
            "marker": {
             "colorbar": {
              "outlinewidth": 0,
              "ticks": ""
             }
            },
            "type": "scatterternary"
           }
          ],
          "surface": [
           {
            "colorbar": {
             "outlinewidth": 0,
             "ticks": ""
            },
            "colorscale": [
             [
              0,
              "#0d0887"
             ],
             [
              0.1111111111111111,
              "#46039f"
             ],
             [
              0.2222222222222222,
              "#7201a8"
             ],
             [
              0.3333333333333333,
              "#9c179e"
             ],
             [
              0.4444444444444444,
              "#bd3786"
             ],
             [
              0.5555555555555556,
              "#d8576b"
             ],
             [
              0.6666666666666666,
              "#ed7953"
             ],
             [
              0.7777777777777778,
              "#fb9f3a"
             ],
             [
              0.8888888888888888,
              "#fdca26"
             ],
             [
              1,
              "#f0f921"
             ]
            ],
            "type": "surface"
           }
          ],
          "table": [
           {
            "cells": {
             "fill": {
              "color": "#EBF0F8"
             },
             "line": {
              "color": "white"
             }
            },
            "header": {
             "fill": {
              "color": "#C8D4E3"
             },
             "line": {
              "color": "white"
             }
            },
            "type": "table"
           }
          ]
         },
         "layout": {
          "annotationdefaults": {
           "arrowcolor": "#2a3f5f",
           "arrowhead": 0,
           "arrowwidth": 1
          },
          "autotypenumbers": "strict",
          "coloraxis": {
           "colorbar": {
            "outlinewidth": 0,
            "ticks": ""
           }
          },
          "colorscale": {
           "diverging": [
            [
             0,
             "#8e0152"
            ],
            [
             0.1,
             "#c51b7d"
            ],
            [
             0.2,
             "#de77ae"
            ],
            [
             0.3,
             "#f1b6da"
            ],
            [
             0.4,
             "#fde0ef"
            ],
            [
             0.5,
             "#f7f7f7"
            ],
            [
             0.6,
             "#e6f5d0"
            ],
            [
             0.7,
             "#b8e186"
            ],
            [
             0.8,
             "#7fbc41"
            ],
            [
             0.9,
             "#4d9221"
            ],
            [
             1,
             "#276419"
            ]
           ],
           "sequential": [
            [
             0,
             "#0d0887"
            ],
            [
             0.1111111111111111,
             "#46039f"
            ],
            [
             0.2222222222222222,
             "#7201a8"
            ],
            [
             0.3333333333333333,
             "#9c179e"
            ],
            [
             0.4444444444444444,
             "#bd3786"
            ],
            [
             0.5555555555555556,
             "#d8576b"
            ],
            [
             0.6666666666666666,
             "#ed7953"
            ],
            [
             0.7777777777777778,
             "#fb9f3a"
            ],
            [
             0.8888888888888888,
             "#fdca26"
            ],
            [
             1,
             "#f0f921"
            ]
           ],
           "sequentialminus": [
            [
             0,
             "#0d0887"
            ],
            [
             0.1111111111111111,
             "#46039f"
            ],
            [
             0.2222222222222222,
             "#7201a8"
            ],
            [
             0.3333333333333333,
             "#9c179e"
            ],
            [
             0.4444444444444444,
             "#bd3786"
            ],
            [
             0.5555555555555556,
             "#d8576b"
            ],
            [
             0.6666666666666666,
             "#ed7953"
            ],
            [
             0.7777777777777778,
             "#fb9f3a"
            ],
            [
             0.8888888888888888,
             "#fdca26"
            ],
            [
             1,
             "#f0f921"
            ]
           ]
          },
          "colorway": [
           "#636efa",
           "#EF553B",
           "#00cc96",
           "#ab63fa",
           "#FFA15A",
           "#19d3f3",
           "#FF6692",
           "#B6E880",
           "#FF97FF",
           "#FECB52"
          ],
          "font": {
           "color": "#2a3f5f"
          },
          "geo": {
           "bgcolor": "white",
           "lakecolor": "white",
           "landcolor": "#E5ECF6",
           "showlakes": true,
           "showland": true,
           "subunitcolor": "white"
          },
          "hoverlabel": {
           "align": "left"
          },
          "hovermode": "closest",
          "mapbox": {
           "style": "light"
          },
          "paper_bgcolor": "white",
          "plot_bgcolor": "#E5ECF6",
          "polar": {
           "angularaxis": {
            "gridcolor": "white",
            "linecolor": "white",
            "ticks": ""
           },
           "bgcolor": "#E5ECF6",
           "radialaxis": {
            "gridcolor": "white",
            "linecolor": "white",
            "ticks": ""
           }
          },
          "scene": {
           "xaxis": {
            "backgroundcolor": "#E5ECF6",
            "gridcolor": "white",
            "gridwidth": 2,
            "linecolor": "white",
            "showbackground": true,
            "ticks": "",
            "zerolinecolor": "white"
           },
           "yaxis": {
            "backgroundcolor": "#E5ECF6",
            "gridcolor": "white",
            "gridwidth": 2,
            "linecolor": "white",
            "showbackground": true,
            "ticks": "",
            "zerolinecolor": "white"
           },
           "zaxis": {
            "backgroundcolor": "#E5ECF6",
            "gridcolor": "white",
            "gridwidth": 2,
            "linecolor": "white",
            "showbackground": true,
            "ticks": "",
            "zerolinecolor": "white"
           }
          },
          "shapedefaults": {
           "line": {
            "color": "#2a3f5f"
           }
          },
          "ternary": {
           "aaxis": {
            "gridcolor": "white",
            "linecolor": "white",
            "ticks": ""
           },
           "baxis": {
            "gridcolor": "white",
            "linecolor": "white",
            "ticks": ""
           },
           "bgcolor": "#E5ECF6",
           "caxis": {
            "gridcolor": "white",
            "linecolor": "white",
            "ticks": ""
           }
          },
          "title": {
           "x": 0.05
          },
          "xaxis": {
           "automargin": true,
           "gridcolor": "white",
           "linecolor": "white",
           "ticks": "",
           "title": {
            "standoff": 15
           },
           "zerolinecolor": "white",
           "zerolinewidth": 2
          },
          "yaxis": {
           "automargin": true,
           "gridcolor": "white",
           "linecolor": "white",
           "ticks": "",
           "title": {
            "standoff": 15
           },
           "zerolinecolor": "white",
           "zerolinewidth": 2
          }
         }
        },
        "width": 1200,
        "xaxis": {
         "anchor": "y",
         "domain": [
          0,
          1
         ],
         "title": {
          "text": "drug"
         }
        },
        "yaxis": {
         "anchor": "x",
         "domain": [
          0,
          1
         ],
         "title": {
          "text": "imbalance"
         }
        }
       }
      }
     },
     "metadata": {},
     "output_type": "display_data"
    }
   ],
   "source": [
    "px.bar(drug_counts_df.sort_values(by='imbalance', ascending=False), y='imbalance', x='drug', width=1200)"
   ]
  },
  {
   "cell_type": "code",
   "execution_count": 223,
   "metadata": {},
   "outputs": [
    {
     "data": {
      "text/plain": [
       "0.5983351575551588"
      ]
     },
     "execution_count": 223,
     "metadata": {},
     "output_type": "execute_result"
    }
   ],
   "source": [
    "((drug_counts_df['imbalance'] / 2 + 0.5) * drug_counts_df['total']).sum() / drug_counts_df['total'].sum()"
   ]
  },
  {
   "cell_type": "markdown",
   "metadata": {},
   "source": [
    "## Calculate joint probability"
   ]
  },
  {
   "cell_type": "code",
   "execution_count": 224,
   "metadata": {},
   "outputs": [
    {
     "data": {
      "text/html": [
       "<div>\n",
       "<style scoped>\n",
       "    .dataframe tbody tr th:only-of-type {\n",
       "        vertical-align: middle;\n",
       "    }\n",
       "\n",
       "    .dataframe tbody tr th {\n",
       "        vertical-align: top;\n",
       "    }\n",
       "\n",
       "    .dataframe thead th {\n",
       "        text-align: right;\n",
       "    }\n",
       "</style>\n",
       "<table border=\"1\" class=\"dataframe\">\n",
       "  <thead>\n",
       "    <tr style=\"text-align: right;\">\n",
       "      <th></th>\n",
       "      <th>Drug1</th>\n",
       "      <th>Drug2</th>\n",
       "      <th>cell</th>\n",
       "      <th>drug1_db</th>\n",
       "      <th>drug2_db</th>\n",
       "      <th>synergy</th>\n",
       "    </tr>\n",
       "  </thead>\n",
       "  <tbody>\n",
       "    <tr>\n",
       "      <th>0</th>\n",
       "      <td>5-FU</td>\n",
       "      <td>BORTEZOMIB</td>\n",
       "      <td>A2058</td>\n",
       "      <td>DB00544</td>\n",
       "      <td>DB00188</td>\n",
       "      <td>0</td>\n",
       "    </tr>\n",
       "    <tr>\n",
       "      <th>1</th>\n",
       "      <td>5-FU</td>\n",
       "      <td>DASATINIB</td>\n",
       "      <td>A2058</td>\n",
       "      <td>DB00544</td>\n",
       "      <td>DB01254</td>\n",
       "      <td>1</td>\n",
       "    </tr>\n",
       "    <tr>\n",
       "      <th>2</th>\n",
       "      <td>5-FU</td>\n",
       "      <td>ERLOTINIB</td>\n",
       "      <td>A2058</td>\n",
       "      <td>DB00544</td>\n",
       "      <td>DB00530</td>\n",
       "      <td>1</td>\n",
       "    </tr>\n",
       "    <tr>\n",
       "      <th>3</th>\n",
       "      <td>5-FU</td>\n",
       "      <td>GELDANAMYCIN</td>\n",
       "      <td>A2058</td>\n",
       "      <td>DB00544</td>\n",
       "      <td>DB02424</td>\n",
       "      <td>1</td>\n",
       "    </tr>\n",
       "    <tr>\n",
       "      <th>4</th>\n",
       "      <td>5-FU</td>\n",
       "      <td>LAPATINIB</td>\n",
       "      <td>A2058</td>\n",
       "      <td>DB00544</td>\n",
       "      <td>DB01259</td>\n",
       "      <td>1</td>\n",
       "    </tr>\n",
       "    <tr>\n",
       "      <th>...</th>\n",
       "      <td>...</td>\n",
       "      <td>...</td>\n",
       "      <td>...</td>\n",
       "      <td>...</td>\n",
       "      <td>...</td>\n",
       "      <td>...</td>\n",
       "    </tr>\n",
       "    <tr>\n",
       "      <th>69431</th>\n",
       "      <td>Sunitinib malate</td>\n",
       "      <td>Toremifene citrate</td>\n",
       "      <td>HUH7</td>\n",
       "      <td>DB01268</td>\n",
       "      <td>DB00539</td>\n",
       "      <td>1</td>\n",
       "    </tr>\n",
       "    <tr>\n",
       "      <th>69432</th>\n",
       "      <td>Sunitinib malate</td>\n",
       "      <td>Aripiprazole</td>\n",
       "      <td>HUH7</td>\n",
       "      <td>DB01268</td>\n",
       "      <td>DB01238</td>\n",
       "      <td>0</td>\n",
       "    </tr>\n",
       "    <tr>\n",
       "      <th>69433</th>\n",
       "      <td>Toremifene citrate</td>\n",
       "      <td>Toremifene citrate</td>\n",
       "      <td>HUH7</td>\n",
       "      <td>DB00539</td>\n",
       "      <td>DB00539</td>\n",
       "      <td>0</td>\n",
       "    </tr>\n",
       "    <tr>\n",
       "      <th>69434</th>\n",
       "      <td>Toremifene citrate</td>\n",
       "      <td>Aripiprazole</td>\n",
       "      <td>HUH7</td>\n",
       "      <td>DB00539</td>\n",
       "      <td>DB01238</td>\n",
       "      <td>0</td>\n",
       "    </tr>\n",
       "    <tr>\n",
       "      <th>69435</th>\n",
       "      <td>Aripiprazole</td>\n",
       "      <td>Aripiprazole</td>\n",
       "      <td>HUH7</td>\n",
       "      <td>DB01238</td>\n",
       "      <td>DB01238</td>\n",
       "      <td>0</td>\n",
       "    </tr>\n",
       "  </tbody>\n",
       "</table>\n",
       "<p>69436 rows × 6 columns</p>\n",
       "</div>"
      ],
      "text/plain": [
       "                    Drug1               Drug2   cell drug1_db drug2_db  \\\n",
       "0                    5-FU          BORTEZOMIB  A2058  DB00544  DB00188   \n",
       "1                    5-FU           DASATINIB  A2058  DB00544  DB01254   \n",
       "2                    5-FU           ERLOTINIB  A2058  DB00544  DB00530   \n",
       "3                    5-FU        GELDANAMYCIN  A2058  DB00544  DB02424   \n",
       "4                    5-FU           LAPATINIB  A2058  DB00544  DB01259   \n",
       "...                   ...                 ...    ...      ...      ...   \n",
       "69431    Sunitinib malate  Toremifene citrate   HUH7  DB01268  DB00539   \n",
       "69432    Sunitinib malate        Aripiprazole   HUH7  DB01268  DB01238   \n",
       "69433  Toremifene citrate  Toremifene citrate   HUH7  DB00539  DB00539   \n",
       "69434  Toremifene citrate        Aripiprazole   HUH7  DB00539  DB01238   \n",
       "69435        Aripiprazole        Aripiprazole   HUH7  DB01238  DB01238   \n",
       "\n",
       "       synergy  \n",
       "0            0  \n",
       "1            1  \n",
       "2            1  \n",
       "3            1  \n",
       "4            1  \n",
       "...        ...  \n",
       "69431        1  \n",
       "69432        0  \n",
       "69433        0  \n",
       "69434        0  \n",
       "69435        0  \n",
       "\n",
       "[69436 rows x 6 columns]"
      ]
     },
     "execution_count": 224,
     "metadata": {},
     "output_type": "execute_result"
    }
   ],
   "source": [
    "df_drug_combinations"
   ]
  },
  {
   "cell_type": "code",
   "execution_count": 225,
   "metadata": {},
   "outputs": [
    {
     "data": {
      "text/html": [
       "<div>\n",
       "<style scoped>\n",
       "    .dataframe tbody tr th:only-of-type {\n",
       "        vertical-align: middle;\n",
       "    }\n",
       "\n",
       "    .dataframe tbody tr th {\n",
       "        vertical-align: top;\n",
       "    }\n",
       "\n",
       "    .dataframe thead th {\n",
       "        text-align: right;\n",
       "    }\n",
       "</style>\n",
       "<table border=\"1\" class=\"dataframe\">\n",
       "  <thead>\n",
       "    <tr style=\"text-align: right;\">\n",
       "      <th>synergy</th>\n",
       "      <th>cell</th>\n",
       "      <th>0</th>\n",
       "      <th>1</th>\n",
       "      <th>total</th>\n",
       "      <th>0_relative</th>\n",
       "      <th>1_relative</th>\n",
       "      <th>inbalance</th>\n",
       "      <th>imbalance</th>\n",
       "    </tr>\n",
       "  </thead>\n",
       "  <tbody>\n",
       "    <tr>\n",
       "      <th>0</th>\n",
       "      <td>786O</td>\n",
       "      <td>965.0</td>\n",
       "      <td>620.0</td>\n",
       "      <td>1585.0</td>\n",
       "      <td>0.608833</td>\n",
       "      <td>0.391167</td>\n",
       "      <td>0.217666</td>\n",
       "      <td>0.217666</td>\n",
       "    </tr>\n",
       "    <tr>\n",
       "      <th>1</th>\n",
       "      <td>A2058</td>\n",
       "      <td>16.0</td>\n",
       "      <td>82.0</td>\n",
       "      <td>98.0</td>\n",
       "      <td>0.163265</td>\n",
       "      <td>0.836735</td>\n",
       "      <td>0.673469</td>\n",
       "      <td>0.673469</td>\n",
       "    </tr>\n",
       "    <tr>\n",
       "      <th>2</th>\n",
       "      <td>A2780</td>\n",
       "      <td>4.0</td>\n",
       "      <td>94.0</td>\n",
       "      <td>98.0</td>\n",
       "      <td>0.040816</td>\n",
       "      <td>0.959184</td>\n",
       "      <td>0.918367</td>\n",
       "      <td>0.918367</td>\n",
       "    </tr>\n",
       "    <tr>\n",
       "      <th>3</th>\n",
       "      <td>A375</td>\n",
       "      <td>27.0</td>\n",
       "      <td>72.0</td>\n",
       "      <td>99.0</td>\n",
       "      <td>0.272727</td>\n",
       "      <td>0.727273</td>\n",
       "      <td>0.454545</td>\n",
       "      <td>0.454545</td>\n",
       "    </tr>\n",
       "    <tr>\n",
       "      <th>4</th>\n",
       "      <td>A498</td>\n",
       "      <td>1107.0</td>\n",
       "      <td>482.0</td>\n",
       "      <td>1589.0</td>\n",
       "      <td>0.696665</td>\n",
       "      <td>0.303335</td>\n",
       "      <td>0.393329</td>\n",
       "      <td>0.393329</td>\n",
       "    </tr>\n",
       "    <tr>\n",
       "      <th>...</th>\n",
       "      <td>...</td>\n",
       "      <td>...</td>\n",
       "      <td>...</td>\n",
       "      <td>...</td>\n",
       "      <td>...</td>\n",
       "      <td>...</td>\n",
       "      <td>...</td>\n",
       "      <td>...</td>\n",
       "    </tr>\n",
       "    <tr>\n",
       "      <th>68</th>\n",
       "      <td>UACC257</td>\n",
       "      <td>846.0</td>\n",
       "      <td>753.0</td>\n",
       "      <td>1599.0</td>\n",
       "      <td>0.529081</td>\n",
       "      <td>0.470919</td>\n",
       "      <td>0.058161</td>\n",
       "      <td>0.058161</td>\n",
       "    </tr>\n",
       "    <tr>\n",
       "      <th>69</th>\n",
       "      <td>UACC62</td>\n",
       "      <td>1043.0</td>\n",
       "      <td>616.0</td>\n",
       "      <td>1659.0</td>\n",
       "      <td>0.628692</td>\n",
       "      <td>0.371308</td>\n",
       "      <td>0.257384</td>\n",
       "      <td>0.257384</td>\n",
       "    </tr>\n",
       "    <tr>\n",
       "      <th>70</th>\n",
       "      <td>VCAP</td>\n",
       "      <td>23.0</td>\n",
       "      <td>75.0</td>\n",
       "      <td>98.0</td>\n",
       "      <td>0.234694</td>\n",
       "      <td>0.765306</td>\n",
       "      <td>0.530612</td>\n",
       "      <td>0.530612</td>\n",
       "    </tr>\n",
       "    <tr>\n",
       "      <th>71</th>\n",
       "      <td>WM115</td>\n",
       "      <td>1.0</td>\n",
       "      <td>0.0</td>\n",
       "      <td>1.0</td>\n",
       "      <td>1.000000</td>\n",
       "      <td>0.000000</td>\n",
       "      <td>1.000000</td>\n",
       "      <td>1.000000</td>\n",
       "    </tr>\n",
       "    <tr>\n",
       "      <th>72</th>\n",
       "      <td>ZR751</td>\n",
       "      <td>78.0</td>\n",
       "      <td>20.0</td>\n",
       "      <td>98.0</td>\n",
       "      <td>0.795918</td>\n",
       "      <td>0.204082</td>\n",
       "      <td>0.591837</td>\n",
       "      <td>0.591837</td>\n",
       "    </tr>\n",
       "  </tbody>\n",
       "</table>\n",
       "<p>73 rows × 8 columns</p>\n",
       "</div>"
      ],
      "text/plain": [
       "synergy     cell       0      1   total  0_relative  1_relative  inbalance  \\\n",
       "0           786O   965.0  620.0  1585.0    0.608833    0.391167   0.217666   \n",
       "1          A2058    16.0   82.0    98.0    0.163265    0.836735   0.673469   \n",
       "2          A2780     4.0   94.0    98.0    0.040816    0.959184   0.918367   \n",
       "3           A375    27.0   72.0    99.0    0.272727    0.727273   0.454545   \n",
       "4           A498  1107.0  482.0  1589.0    0.696665    0.303335   0.393329   \n",
       "..           ...     ...    ...     ...         ...         ...        ...   \n",
       "68       UACC257   846.0  753.0  1599.0    0.529081    0.470919   0.058161   \n",
       "69        UACC62  1043.0  616.0  1659.0    0.628692    0.371308   0.257384   \n",
       "70          VCAP    23.0   75.0    98.0    0.234694    0.765306   0.530612   \n",
       "71         WM115     1.0    0.0     1.0    1.000000    0.000000   1.000000   \n",
       "72         ZR751    78.0   20.0    98.0    0.795918    0.204082   0.591837   \n",
       "\n",
       "synergy  imbalance  \n",
       "0         0.217666  \n",
       "1         0.673469  \n",
       "2         0.918367  \n",
       "3         0.454545  \n",
       "4         0.393329  \n",
       "..             ...  \n",
       "68        0.058161  \n",
       "69        0.257384  \n",
       "70        0.530612  \n",
       "71        1.000000  \n",
       "72        0.591837  \n",
       "\n",
       "[73 rows x 8 columns]"
      ]
     },
     "execution_count": 225,
     "metadata": {},
     "output_type": "execute_result"
    }
   ],
   "source": [
    "counts_df"
   ]
  },
  {
   "cell_type": "code",
   "execution_count": 226,
   "metadata": {},
   "outputs": [
    {
     "name": "stderr",
     "output_type": "stream",
     "text": [
      "100%|██████████| 69436/69436 [01:13<00:00, 944.02it/s]\n"
     ]
    }
   ],
   "source": [
    "probs = {\n",
    "    'cells': [],\n",
    "    'drug1': [],\n",
    "    'drug2': [],\n",
    "    'avg': [],\n",
    "    'median':[],\n",
    "    'max': []\n",
    "}\n",
    "for i in tqdm(df_drug_combinations.index):\n",
    "    row = df_drug_combinations.iloc[i]\n",
    "    # print(row)\n",
    "    cell_prob = counts_df.loc[counts_df['cell'].str.match(row['cell']), ['1_relative']].to_numpy()[0][0]\n",
    "    drug1_prob = drug_counts_df.loc[drug_counts_df['drug'].str.match(row['drug1_db']), ['1_relative']].to_numpy()[0][0]\n",
    "    drug2_prob = drug_counts_df.loc[drug_counts_df['drug'].str.match(row['drug2_db']), ['1_relative']].to_numpy()[0][0]\n",
    "    # print(cell_prob, drug1_prob, drug2_prob)\n",
    "    probs['cells'].append(cell_prob)\n",
    "    probs['drug1'].append(drug1_prob)\n",
    "    probs['drug2'].append(drug2_prob)\n",
    "    probs['avg'].append(np.average([cell_prob, drug1_prob, drug2_prob]))\n",
    "    probs['median'].append(np.median([cell_prob, drug1_prob, drug2_prob]))\n",
    "    probs['max'].append(np.max([cell_prob, drug1_prob, drug2_prob]))\n"
   ]
  },
  {
   "cell_type": "code",
   "execution_count": 227,
   "metadata": {},
   "outputs": [
    {
     "data": {
      "text/plain": [
       "0.6481508151391209"
      ]
     },
     "execution_count": 227,
     "metadata": {},
     "output_type": "execute_result"
    }
   ],
   "source": [
    "# average acc\n",
    "avg = np.array(probs['avg'])\n",
    "avg[avg > 0.5] = 1\n",
    "avg[avg <= 0.5] = 0\n",
    "avg = avg.astype(int)\n",
    "\n",
    "(avg == df_drug_combinations['synergy']).sum()/len(avg)"
   ]
  },
  {
   "cell_type": "code",
   "execution_count": 228,
   "metadata": {},
   "outputs": [
    {
     "data": {
      "text/plain": [
       "0.6377959559882481"
      ]
     },
     "execution_count": 228,
     "metadata": {},
     "output_type": "execute_result"
    }
   ],
   "source": [
    "# median acc\n",
    "median = np.array(probs['median'])\n",
    "median[median > 0.5] = 1\n",
    "median[median <= 0.5] = 0\n",
    "median = median.astype(int)\n",
    "\n",
    "(median == df_drug_combinations['synergy']).sum()/len(median)"
   ]
  },
  {
   "cell_type": "code",
   "execution_count": 229,
   "metadata": {},
   "outputs": [
    {
     "data": {
      "text/plain": [
       "0.5689555849991359"
      ]
     },
     "execution_count": 229,
     "metadata": {},
     "output_type": "execute_result"
    }
   ],
   "source": [
    "# max acc\n",
    "max = np.array(probs['max'])\n",
    "max[max > 0.5] = 1\n",
    "max[max <= 0.5] = 0\n",
    "max = max.astype(int)\n",
    "\n",
    "(max == df_drug_combinations['synergy']).sum()/len(max)"
   ]
  },
  {
   "cell_type": "code",
   "execution_count": 230,
   "metadata": {},
   "outputs": [
    {
     "data": {
      "text/plain": [
       "0.6408347255026211"
      ]
     },
     "execution_count": 230,
     "metadata": {},
     "output_type": "execute_result"
    }
   ],
   "source": [
    "# experiment acc\n",
    "combined_drugs = (np.array(probs['drug1']) + np.array(probs['drug2'])) / 2\n",
    "combined_drugs[combined_drugs > 0.5] = 1\n",
    "combined_drugs[combined_drugs <= 0.5] = 0\n",
    "combined_drugs = combined_drugs.astype(int)\n",
    "\n",
    "(combined_drugs == df_drug_combinations['synergy']).sum()/len(combined_drugs)"
   ]
  },
  {
   "cell_type": "code",
   "execution_count": 231,
   "metadata": {},
   "outputs": [
    {
     "data": {
      "text/plain": [
       "0.6187424390805922"
      ]
     },
     "execution_count": 231,
     "metadata": {},
     "output_type": "execute_result"
    }
   ],
   "source": [
    "# experiment acc\n",
    "combined_drugs = (np.array(probs['cells']) + np.array(probs['drug2'])) / 2\n",
    "combined_drugs[combined_drugs > 0.5] = 1\n",
    "combined_drugs[combined_drugs <= 0.5] = 0\n",
    "combined_drugs = combined_drugs.astype(int)\n",
    "\n",
    "(combined_drugs == df_drug_combinations['synergy']).sum()/len(combined_drugs)"
   ]
  },
  {
   "cell_type": "code",
   "execution_count": 232,
   "metadata": {},
   "outputs": [
    {
     "data": {
      "text/plain": [
       "0.6277579353649404"
      ]
     },
     "execution_count": 232,
     "metadata": {},
     "output_type": "execute_result"
    }
   ],
   "source": [
    "# experiment acc\n",
    "combined_drugs = (np.array(probs['drug1']) + np.array(probs['cells'])) / 2\n",
    "combined_drugs[combined_drugs > 0.5] = 1\n",
    "combined_drugs[combined_drugs <= 0.5] = 0\n",
    "combined_drugs = combined_drugs.astype(int)\n",
    "\n",
    "(combined_drugs == df_drug_combinations['synergy']).sum()/len(combined_drugs)"
   ]
  },
  {
   "cell_type": "code",
   "execution_count": 233,
   "metadata": {},
   "outputs": [
    {
     "data": {
      "text/plain": [
       "0.6046863298577106"
      ]
     },
     "execution_count": 233,
     "metadata": {},
     "output_type": "execute_result"
    }
   ],
   "source": [
    "combined_drugs = np.array(probs['drug1'])\n",
    "combined_drugs[combined_drugs > 0.5] = 1\n",
    "combined_drugs[combined_drugs <= 0.5] = 0\n",
    "combined_drugs = combined_drugs.astype(int)\n",
    "\n",
    "(combined_drugs == df_drug_combinations['synergy']).sum()/len(combined_drugs)"
   ]
  },
  {
   "cell_type": "code",
   "execution_count": 234,
   "metadata": {},
   "outputs": [
    {
     "data": {
      "text/plain": [
       "0.5919839852526068"
      ]
     },
     "execution_count": 234,
     "metadata": {},
     "output_type": "execute_result"
    }
   ],
   "source": [
    "combined_drugs = np.array(probs['drug2'])\n",
    "combined_drugs[combined_drugs > 0.5] = 1\n",
    "combined_drugs[combined_drugs <= 0.5] = 0\n",
    "combined_drugs = combined_drugs.astype(int)\n",
    "\n",
    "(combined_drugs == df_drug_combinations['synergy']).sum()/len(combined_drugs)"
   ]
  },
  {
   "cell_type": "code",
   "execution_count": 235,
   "metadata": {},
   "outputs": [
    {
     "data": {
      "text/plain": [
       "0.5918831729938361"
      ]
     },
     "execution_count": 235,
     "metadata": {},
     "output_type": "execute_result"
    }
   ],
   "source": [
    "combined_drugs = np.array(probs['cells'])\n",
    "combined_drugs[combined_drugs > 0.5] = 1\n",
    "combined_drugs[combined_drugs <= 0.5] = 0\n",
    "combined_drugs = combined_drugs.astype(int)\n",
    "\n",
    "(combined_drugs == df_drug_combinations['synergy']).sum()/len(combined_drugs)"
   ]
  },
  {
   "cell_type": "code",
   "execution_count": null,
   "metadata": {},
   "outputs": [],
   "source": [
    "np.av"
   ]
  }
 ],
 "metadata": {
  "kernelspec": {
   "display_name": "Python 3",
   "language": "python",
   "name": "python3"
  },
  "language_info": {
   "codemirror_mode": {
    "name": "ipython",
    "version": 3
   },
   "file_extension": ".py",
   "mimetype": "text/x-python",
   "name": "python",
   "nbconvert_exporter": "python",
   "pygments_lexer": "ipython3",
   "version": "3.10.5"
  }
 },
 "nbformat": 4,
 "nbformat_minor": 2
}
